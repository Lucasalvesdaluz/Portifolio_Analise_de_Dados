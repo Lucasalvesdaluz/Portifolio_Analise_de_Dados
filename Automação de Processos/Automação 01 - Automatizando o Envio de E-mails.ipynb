{
 "cells": [
  {
   "cell_type": "markdown",
   "id": "d0d81e79-a740-4e5b-9d2b-55e491b7b6f2",
   "metadata": {},
   "source": [
    "# Projeto: Automação de Envio de E-mails\n",
    "\n",
    "Este projeto demonstra uma solução de automação para envio de e-mails utilizando Python e as bibliotecas **pyautogui, pyperclip, time e pandas**. O objetivo é simular a interação de um usuário no sistema para acessar o Gmail, extrair uma lista de contatos e enviar e-mails para múltiplos destinatários. Este código é ideal para aplicações que exigem rapidez e repetibilidade em tarefas administrativas."
   ]
  },
  {
   "cell_type": "markdown",
   "id": "2092ef2d-87f1-4a8c-b1d4-ed4374e23c86",
   "metadata": {},
   "source": [
    "## 1. Configuração Inicial:\n",
    "- Importação das bibliotecas.\n",
    "- Uma mensagem de alerta é exibida ao usuário para evitar interações acidentais com o computador durante a execução do script.\n",
    "- O tempo de pausa entre as ações é configurado para melhorar a estabilidade do script."
   ]
  },
  {
   "cell_type": "code",
   "execution_count": 6,
   "id": "424a4dfa-86d7-48b0-8c53-7f4385c494be",
   "metadata": {},
   "outputs": [],
   "source": [
    "import pyautogui as py\n",
    "import time\n",
    "import pyperclip as pyper\n",
    "import pandas as pd\n",
    "\n",
    "py.alert('Atenção! Não mexa no computador enquanto o código estiver sendo executado.')\n",
    "py.PAUSE=0.5"
   ]
  },
  {
   "cell_type": "markdown",
   "id": "e10cc5c2-3a26-4f85-a1d3-2ec48997c572",
   "metadata": {},
   "source": [
    "## 2. Abrir o Navegador e Acessar o Gmail:\n",
    "- O script abre o navegador Google Chrome usando o menu Iniciar e acessa o site do Gmail.\n",
    "- Localizações específicas na tela (coordenadas x e y) são utilizadas para clicar nos ícones necessários."
   ]
  },
  {
   "cell_type": "code",
   "execution_count": 7,
   "id": "b4843009-66a2-4475-9389-a17ba6a65398",
   "metadata": {},
   "outputs": [],
   "source": [
    "#Abrindo o Chrome\n",
    "py.press('win')\n",
    "py.write('chrome')\n",
    "py.press('enter')\n",
    "\n",
    "#Escolhendo a conta Google\n",
    "py.click(x=956, y=633)\n",
    "\n",
    "#Acessando o site do Gmail\n",
    "py.write('gmail.com')\n",
    "py.press('enter')\n"
   ]
  },
  {
   "cell_type": "markdown",
   "id": "3cc60150-5263-418d-bec4-d0641b2cb93a",
   "metadata": {},
   "source": [
    "## 3. Exportar a Lista de Contatos:\n",
    "- Navega até o menu de aplicativos do Google, acessa a página de contatos e exporta a lista de contatos em formato CSV.\n",
    "- Coordenadas de cliques são usadas para realizar essas etapas automaticamente."
   ]
  },
  {
   "cell_type": "code",
   "execution_count": 8,
   "id": "2a5103c2-d394-40b5-947f-ed7c1ccad145",
   "metadata": {},
   "outputs": [],
   "source": [
    "#Pausa de 2s\n",
    "time.sleep(2)\n",
    "\n",
    "#clicando no ícone de APPs\n",
    "py.click(x=1824, y=185)\n",
    "\n",
    "#Pausa de 2s\n",
    "time.sleep(1)\n",
    "\n",
    "#Acessando contatos\n",
    "py.click(x=1572, y=682)\n",
    "\n",
    "#Pausa 2s\n",
    "time.sleep(2)\n",
    "\n",
    "#Exportando contatos\n",
    "py.click(x=415, y=475)\n",
    "py.click(x=447, y=357)\n",
    "py.click(x=494, y=411)\n",
    "py.click(x=1291, y=351)\n",
    "py.click(x=1188, y=472)\n",
    "py.click(x=1091, y=809)"
   ]
  },
  {
   "cell_type": "markdown",
   "id": "1e8dafb3-6c63-4f44-9ad5-f8593d74bdc1",
   "metadata": {},
   "source": [
    "## 4. Processar a Lista de Contatos:\n",
    "- A lista de contatos exportada é carregada como um DataFrame usando a biblioteca pandas.\n",
    "- Filtragem é aplicada para remover linhas sem nome ou endereço de e-mail, e uma linha inútil é excluída."
   ]
  },
  {
   "cell_type": "code",
   "execution_count": 9,
   "id": "2c8f416f-8839-4756-9e47-6196f6f8b82b",
   "metadata": {},
   "outputs": [
    {
     "data": {
      "text/html": [
       "<div>\n",
       "<style scoped>\n",
       "    .dataframe tbody tr th:only-of-type {\n",
       "        vertical-align: middle;\n",
       "    }\n",
       "\n",
       "    .dataframe tbody tr th {\n",
       "        vertical-align: top;\n",
       "    }\n",
       "\n",
       "    .dataframe thead th {\n",
       "        text-align: right;\n",
       "    }\n",
       "</style>\n",
       "<table border=\"1\" class=\"dataframe\">\n",
       "  <thead>\n",
       "    <tr style=\"text-align: right;\">\n",
       "      <th></th>\n",
       "      <th>First Name</th>\n",
       "      <th>Middle Name</th>\n",
       "      <th>Last Name</th>\n",
       "      <th>Phonetic First Name</th>\n",
       "      <th>Phonetic Middle Name</th>\n",
       "      <th>Phonetic Last Name</th>\n",
       "      <th>Name Prefix</th>\n",
       "      <th>Name Suffix</th>\n",
       "      <th>Nickname</th>\n",
       "      <th>File As</th>\n",
       "      <th>...</th>\n",
       "      <th>Organization Title</th>\n",
       "      <th>Organization Department</th>\n",
       "      <th>Birthday</th>\n",
       "      <th>Notes</th>\n",
       "      <th>Photo</th>\n",
       "      <th>Labels</th>\n",
       "      <th>E-mail 1 - Label</th>\n",
       "      <th>E-mail 1 - Value</th>\n",
       "      <th>Phone 1 - Label</th>\n",
       "      <th>Phone 1 - Value</th>\n",
       "    </tr>\n",
       "  </thead>\n",
       "  <tbody>\n",
       "    <tr>\n",
       "      <th>238</th>\n",
       "      <td>Lucas Alves</td>\n",
       "      <td>NaN</td>\n",
       "      <td>da luz</td>\n",
       "      <td>NaN</td>\n",
       "      <td>NaN</td>\n",
       "      <td>NaN</td>\n",
       "      <td>NaN</td>\n",
       "      <td>NaN</td>\n",
       "      <td>NaN</td>\n",
       "      <td>NaN</td>\n",
       "      <td>...</td>\n",
       "      <td>NaN</td>\n",
       "      <td>NaN</td>\n",
       "      <td>NaN</td>\n",
       "      <td>NaN</td>\n",
       "      <td>NaN</td>\n",
       "      <td>* myContacts</td>\n",
       "      <td>*</td>\n",
       "      <td>lucasalvesluz19@gmail.com</td>\n",
       "      <td>NaN</td>\n",
       "      <td>81 99497-8464</td>\n",
       "    </tr>\n",
       "    <tr>\n",
       "      <th>251</th>\n",
       "      <td>Mainha</td>\n",
       "      <td>NaN</td>\n",
       "      <td>NaN</td>\n",
       "      <td>NaN</td>\n",
       "      <td>NaN</td>\n",
       "      <td>NaN</td>\n",
       "      <td>NaN</td>\n",
       "      <td>NaN</td>\n",
       "      <td>NaN</td>\n",
       "      <td>NaN</td>\n",
       "      <td>...</td>\n",
       "      <td>NaN</td>\n",
       "      <td>NaN</td>\n",
       "      <td>NaN</td>\n",
       "      <td>NaN</td>\n",
       "      <td>NaN</td>\n",
       "      <td>* myContacts</td>\n",
       "      <td>*</td>\n",
       "      <td>acreciamilitao@hotmail.com</td>\n",
       "      <td>Mobile</td>\n",
       "      <td>+5581988598551</td>\n",
       "    </tr>\n",
       "  </tbody>\n",
       "</table>\n",
       "<p>2 rows × 21 columns</p>\n",
       "</div>"
      ],
      "text/plain": [
       "      First Name Middle Name Last Name  Phonetic First Name  \\\n",
       "238  Lucas Alves         NaN    da luz                  NaN   \n",
       "251       Mainha         NaN       NaN                  NaN   \n",
       "\n",
       "     Phonetic Middle Name  Phonetic Last Name  Name Prefix  Name Suffix  \\\n",
       "238                   NaN                 NaN          NaN          NaN   \n",
       "251                   NaN                 NaN          NaN          NaN   \n",
       "\n",
       "     Nickname  File As  ... Organization Title  Organization Department  \\\n",
       "238       NaN      NaN  ...                NaN                      NaN   \n",
       "251       NaN      NaN  ...                NaN                      NaN   \n",
       "\n",
       "     Birthday  Notes  Photo        Labels E-mail 1 - Label  \\\n",
       "238       NaN    NaN    NaN  * myContacts               *    \n",
       "251       NaN    NaN    NaN  * myContacts               *    \n",
       "\n",
       "               E-mail 1 - Value Phone 1 - Label Phone 1 - Value  \n",
       "238   lucasalvesluz19@gmail.com             NaN   81 99497-8464  \n",
       "251  acreciamilitao@hotmail.com          Mobile  +5581988598551  \n",
       "\n",
       "[2 rows x 21 columns]"
      ]
     },
     "metadata": {},
     "output_type": "display_data"
    }
   ],
   "source": [
    "time.sleep(3)\n",
    "\n",
    "df=pd.read_csv(r\"C:\\Users\\lucas\\Downloads\\contacts.csv\")\n",
    "df=df.dropna(subset=['E-mail 1 - Label'])\n",
    "df=df.dropna(subset=['First Name'])\n",
    "df=df.drop(index=429)\n",
    "\n",
    "display(df)"
   ]
  },
  {
   "cell_type": "markdown",
   "id": "f148b2f4-1ea5-4bec-8854-9e4c1fcb828c",
   "metadata": {},
   "source": [
    "## 5. Escrever e Enviar os E-mails:\n",
    "- O script retorna à aba de composição do Gmail e insere os endereços de e-mail dos destinatários.\n",
    "- O assunto e o corpo do e-mail são preenchidos utilizando a biblioteca pyperclip, que copia o texto para a área de transferência antes de colá-lo no navegador."
   ]
  },
  {
   "cell_type": "code",
   "execution_count": 10,
   "id": "fe6b291e-a2f2-4b9f-90f3-75abab8a2862",
   "metadata": {},
   "outputs": [],
   "source": [
    "#Voltando à aba do Gmail \n",
    "py.hotkey('ctrl','pgup')\n",
    "py.click(x=99, y=260)\n",
    "\n",
    "#Digitando os destinatários\n",
    "for email in df['E-mail 1 - Value']:\n",
    "    py.write(email)\n",
    "    py.press('enter')\n",
    "    \n",
    "#Escrevendo assunto do e-mail\n",
    "py.press('tab')\n",
    "pyper.copy('Teste de automação')\n",
    "py.hotkey('ctrl','v')\n",
    "\n",
    "#Escrevendo o conteúdo do e-mail\n",
    "py.press('tab')\n",
    "pyper.copy('Esse é o meu primeiro teste de automação de envio de e-mail.')\n",
    "py.hotkey('ctrl','v')\n",
    "\n",
    "#Enviando e-mail\n",
    "py.hotkey('ctrl','enter')\n",
    "\n",
    "#Aviso de que o código já foi finalizado\n",
    "py.alert('Código finalizado.')"
   ]
  },
  {
   "cell_type": "markdown",
   "id": "086d2156-68b8-4687-93a2-cd6eb138679c",
   "metadata": {},
   "source": [
    "## Observação Importante:\n",
    "\n",
    "As coordenadas utilizadas no script dependem da resolução da tela e da disposição dos elementos no navegador. Portanto, realize as adaptações necessárias para o seu dispostivo."
   ]
  }
 ],
 "metadata": {
  "kernelspec": {
   "display_name": "Python 3 (ipykernel)",
   "language": "python",
   "name": "python3"
  },
  "language_info": {
   "codemirror_mode": {
    "name": "ipython",
    "version": 3
   },
   "file_extension": ".py",
   "mimetype": "text/x-python",
   "name": "python",
   "nbconvert_exporter": "python",
   "pygments_lexer": "ipython3",
   "version": "3.12.7"
  }
 },
 "nbformat": 4,
 "nbformat_minor": 5
}
