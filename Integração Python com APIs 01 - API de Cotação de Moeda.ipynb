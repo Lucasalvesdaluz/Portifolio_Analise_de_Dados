{
 "cells": [
  {
   "cell_type": "markdown",
   "id": "9eba590f-7a50-45ef-8dd6-7fe0e0c7eded",
   "metadata": {},
   "source": [
    "# **Integração Python com API de Cotação de Moedas**\n",
    "\n",
    "Esse projeto tem como objetivo demonstrar como realizar a integração de Python com uma API para obter e processar dados de cotações de moedas. Ele utiliza a API da AwesomeAPI para acessar cotações atualizadas de moedas como o Dólar, o Euro e o Bitcoin. O projeto foi dividido em dois principais objetivos:\n",
    "\n",
    "1. Exibir as cotações atuais do Dólar, Euro e Bitcoin.\n",
    "2. Listar as cotações do Dólar nos últimos 30 dias."
   ]
  },
  {
   "cell_type": "markdown",
   "id": "b1b601e4-fbfd-4262-bcee-ae2a10efb97a",
   "metadata": {},
   "source": [
    "## **Cotação Atual do Dólar, Euro e Bitcoin**"
   ]
  },
  {
   "cell_type": "markdown",
   "id": "c7b166ec-bf9c-41c4-a4a9-ddb0c4918648",
   "metadata": {},
   "source": [
    "- Vamos utilizar a biblioteca requests para fazer uma solicitação GET para a API da AwesomeAPI, acessando os dados de várias moedas.\n",
    "- Após isso, converteremos os dados retornados no formato JSON em um dicionário Python com o método .json()."
   ]
  },
  {
   "cell_type": "code",
   "execution_count": 9,
   "id": "af34ada9-4d75-4dd8-8d6a-59f4956c2b65",
   "metadata": {},
   "outputs": [
    {
     "name": "stdout",
     "output_type": "stream",
     "text": [
      "{'USD': {'code': 'USD', 'codein': 'BRL', 'name': 'Dólar Americano/Real Brasileiro', 'high': '6.088', 'low': '5.9935', 'varBid': '0.0211', 'pctChange': '0.35', 'bid': '6.07', 'ask': '6.072', 'timestamp': '1737145821', 'create_date': '2025-01-17 17:30:21'}, 'USDT': {'code': 'USD', 'codein': 'BRLT', 'name': 'Dólar Americano/Real Brasileiro Turismo', 'high': '6.12', 'low': '6.03', 'varBid': '0.01', 'pctChange': '0.16', 'bid': '5.91', 'ask': '6.28', 'timestamp': '1737142680', 'create_date': '2025-01-17 16:38:00'}, 'CAD': {'code': 'CAD', 'codein': 'BRL', 'name': 'Dólar Canadense/Real Brasileiro', 'high': '4.2258', 'low': '4.1812', 'varBid': '-0.004', 'pctChange': '-0.1', 'bid': '4.1954', 'ask': '4.2059', 'timestamp': '1737145812', 'create_date': '2025-01-17 17:30:12'}, 'GBP': {'code': 'GBP', 'codein': 'BRL', 'name': 'Libra Esterlina/Real Brasileiro', 'high': '7.4307', 'low': '7.348', 'varBid': '-0.0069', 'pctChange': '-0.09', 'bid': '7.3932', 'ask': '7.3969', 'timestamp': '1737145810', 'create_date': '2025-01-17 17:30:10'}, 'ARS': {'code': 'ARS', 'codein': 'BRL', 'name': 'Peso Argentino/Real Brasileiro', 'high': '0.0058', 'low': '0.0058', 'varBid': '0', 'pctChange': '0', 'bid': '0.0058', 'ask': '0.0058', 'timestamp': '1737145802', 'create_date': '2025-01-17 17:30:02'}, 'BTC': {'code': 'BTC', 'codein': 'BRL', 'name': 'Bitcoin/Real Brasileiro', 'high': '640950', 'low': '598667', 'varBid': '31649', 'pctChange': '5.21', 'bid': '638638', 'ask': '638649', 'timestamp': '1737145816', 'create_date': '2025-01-17 17:30:16'}, 'LTC': {'code': 'LTC', 'codein': 'BRL', 'name': 'Litecoin/Real Brasileiro', 'high': '847', 'low': '737.06', 'varBid': '61.94', 'pctChange': '8.03', 'bid': '829.87', 'ask': '832.08', 'timestamp': '1737145820', 'create_date': '2025-01-17 17:30:20'}, 'EUR': {'code': 'EUR', 'codein': 'BRL', 'name': 'Euro/Real Brasileiro', 'high': '6.2735', 'low': '6.2077', 'varBid': '0.0108', 'pctChange': '0.17', 'bid': '6.2404', 'ask': '6.2484', 'timestamp': '1737145804', 'create_date': '2025-01-17 17:30:04'}, 'JPY': {'code': 'JPY', 'codein': 'BRL', 'name': 'Iene Japonês/Real Brasileiro', 'high': '0.03912', 'low': '0.0386', 'varBid': '-0.0001', 'pctChange': '-0.26', 'bid': '0.0389', 'ask': '0.03892', 'timestamp': '1737145813', 'create_date': '2025-01-17 17:30:13'}, 'CHF': {'code': 'CHF', 'codein': 'BRL', 'name': 'Franco Suíço/Real Brasileiro', 'high': '6.6801', 'low': '6.5956', 'varBid': '-0.0032', 'pctChange': '-0.05', 'bid': '6.6333', 'ask': '6.6499', 'timestamp': '1737145816', 'create_date': '2025-01-17 17:30:16'}, 'AUD': {'code': 'AUD', 'codein': 'BRL', 'name': 'Dólar Australiano/Real Brasileiro', 'high': '3.7773', 'low': '3.7362', 'varBid': '0.0076', 'pctChange': '0.2', 'bid': '3.7616', 'ask': '3.771', 'timestamp': '1737145803', 'create_date': '2025-01-17 17:30:03'}, 'CNY': {'code': 'CNY', 'codein': 'BRL', 'name': 'Yuan Chinês/Real Brasileiro', 'high': '0.8305', 'low': '0.8231', 'varBid': '0.0034', 'pctChange': '0.42', 'bid': '0.8292', 'ask': '0.8292', 'timestamp': '1737145804', 'create_date': '2025-01-17 17:30:04'}, 'ILS': {'code': 'ILS', 'codein': 'BRL', 'name': 'Novo Shekel Israelense/Real Brasileiro', 'high': '1.7046', 'low': '1.6721', 'varBid': '0.0298', 'pctChange': '1.78', 'bid': '1.7043', 'ask': '1.7044', 'timestamp': '1737145807', 'create_date': '2025-01-17 17:30:07'}, 'ETH': {'code': 'ETH', 'codein': 'BRL', 'name': 'Ethereum/Real Brasileiro', 'high': '21182.35', 'low': '19704.23', 'varBid': '957.82', 'pctChange': '4.74', 'bid': '21172.5', 'ask': '21200', 'timestamp': '1737145818', 'create_date': '2025-01-17 17:30:18'}, 'XRP': {'code': 'XRP', 'codein': 'BRL', 'name': 'XRP/Real Brasileiro', 'high': '20.12', 'low': '19.04', 'varBid': '-0.39', 'pctChange': '-1.92', 'bid': '19.78', 'ask': '19.82', 'timestamp': '1737145816', 'create_date': '2025-01-17 17:30:16'}, 'DOGE': {'code': 'DOGE', 'codein': 'BRL', 'name': 'Dogecoin/Real Brasileiro', 'high': '2.11', 'low': '1.92', 'varBid': '-0.09', 'pctChange': '-4.33', 'bid': '1.99', 'ask': '1.99', 'timestamp': '1736784575', 'create_date': '2025-01-13 13:09:35'}}\n"
     ]
    }
   ],
   "source": [
    "import requests as re\n",
    "import json\n",
    "\n",
    "#Solicitação Get\n",
    "cotações = re.get('https://economia.awesomeapi.com.br/json/all')\n",
    "\n",
    "#Conversão dos dados JSON em dicionário \n",
    "cotações_dic = cotações.json()\n",
    "\n",
    "#Exibindo os dados\n",
    "print(cotações_dic)"
   ]
  },
  {
   "cell_type": "markdown",
   "id": "184a9287-70c6-4294-b619-01625be3768d",
   "metadata": {},
   "source": [
    "A partir do dicionário, iremos acessar a cotação atual do **Dólar (USD)**, **Euro (EUR)** e **Bitcoin (BTC)** usando as chaves correspondentes e exibindo apenas o campo **bid (valor de compra)**."
   ]
  },
  {
   "cell_type": "code",
   "execution_count": 13,
   "id": "9fa314da-c2cb-4bea-92c0-914feb2a44c0",
   "metadata": {},
   "outputs": [
    {
     "name": "stdout",
     "output_type": "stream",
     "text": [
      "Dolar: 6.07\n",
      "Euro: 6.2404\n",
      "BitCoin: 638638\n"
     ]
    }
   ],
   "source": [
    "print(f'Dolar: {cotações_dic['USD']['bid']}')\n",
    "print(f'Euro: {cotações_dic['EUR']['bid']}')\n",
    "print(f'BitCoin: {cotações_dic['BTC']['bid']}')"
   ]
  },
  {
   "cell_type": "markdown",
   "id": "6e09eba5-8ff2-45fe-82bf-313efaed4bd8",
   "metadata": {},
   "source": [
    "## **Cotações do Dólar nos Últimos 30 Dias**"
   ]
  },
  {
   "cell_type": "markdown",
   "id": "ba5ecf72-1587-459c-9866-3f36cffe3ddd",
   "metadata": {},
   "source": [
    "- Enviaremos uma solicitação GET para a API, especificando o endpoint que retorna as cotações diárias do Dólar (USD-BRL) nos últimos 30 dias.\n",
    "- O resultado, em formato JSON, será convertido em um dicionário Python."
   ]
  },
  {
   "cell_type": "code",
   "execution_count": 18,
   "id": "81430747-b5d7-4197-93ea-6a66c119673e",
   "metadata": {},
   "outputs": [
    {
     "name": "stdout",
     "output_type": "stream",
     "text": [
      "[{'code': 'USD', 'codein': 'BRL', 'name': 'Dólar Americano/Real Brasileiro', 'high': '6.088', 'low': '5.9935', 'varBid': '0.0226', 'pctChange': '0.37', 'bid': '6.071', 'ask': '6.074', 'timestamp': '1737146793', 'create_date': '2025-01-17 17:46:33'}, {'high': '6.0545', 'low': '6.0504', 'varBid': '0.0005', 'pctChange': '0.01', 'bid': '6.0499', 'ask': '6.0508', 'timestamp': '1737064803'}, {'high': '6.0131', 'low': '6.0085', 'varBid': '0.0033', 'pctChange': '0.05', 'bid': '6.0126', 'ask': '6.0136', 'timestamp': '1736978404'}, {'high': '6.056', 'low': '6.0515', 'varBid': '0.0001', 'pctChange': '0', 'bid': '6.0559', 'ask': '6.0561', 'timestamp': '1736892004'}, {'high': '6.2094', 'low': '6.08', 'varBid': '-0.0277', 'pctChange': '-0.45', 'bid': '6.095', 'ask': '6.098', 'timestamp': '1736801954'}, {'high': '6.1242', 'low': '6.1242', 'varBid': '0', 'pctChange': '0', 'bid': '6.1059', 'ask': '6.1424', 'timestamp': '1736726324'}, {'high': '6.1218', 'low': '6.0322', 'varBid': '0.0527', 'pctChange': '0.87', 'bid': '6.0884', 'ask': '6.0914', 'timestamp': '1736546369'}, {'high': '6.1218', 'low': '6.0322', 'varBid': '0.0719', 'pctChange': '1.19', 'bid': '6.1014', 'ask': '6.1167', 'timestamp': '1736546313'}, {'high': '6.0432', 'low': '6.0322', 'varBid': '-0.0006', 'pctChange': '-0.01', 'bid': '6.0351', 'ask': '6.0381', 'timestamp': '1736467144'}, {'high': '6.1106', 'low': '6.1039', 'varBid': '0.0001', 'pctChange': '0', 'bid': '6.1041', 'ask': '6.1071', 'timestamp': '1736380780'}, {'high': '6.1056', 'low': '6.0993', 'varBid': '0.0014', 'pctChange': '0.02', 'bid': '6.1009', 'ask': '6.1039', 'timestamp': '1736294361'}, {'high': '6.1521', 'low': '6.1156', 'varBid': '0.0004', 'pctChange': '0.01', 'bid': '6.1152', 'ask': '6.1159', 'timestamp': '1736200804'}, {'high': '6.2012', 'low': '6.1357', 'varBid': '0.0276', 'pctChange': '0.49', 'bid': '6.178', 'ask': '6.181', 'timestamp': '1735948798'}, {'high': '6.2023', 'low': '6.1367', 'varBid': '0.0273', 'pctChange': '0.44', 'bid': '6.178', 'ask': '6.181', 'timestamp': '1735941517'}, {'high': '6.1551', 'low': '6.1509', 'varBid': '0.0003', 'pctChange': '0', 'bid': '6.151', 'ask': '6.154', 'timestamp': '1735862348'}, {'high': '6.3063', 'low': '6.2221', 'varBid': '0.0778', 'pctChange': '1.25', 'bid': '6.3', 'ask': '6.303', 'timestamp': '1735775968'}, {'high': '6.2429', 'low': '6.1518', 'varBid': '0.0007', 'pctChange': '0.01', 'bid': '6.184', 'ask': '6.1854', 'timestamp': '1735671787'}, {'high': '6.2418', 'low': '6.152', 'varBid': '0.0003', 'pctChange': '0', 'bid': '6.1778', 'ask': '6.1784', 'timestamp': '1735592380'}, {'high': '6.2159', 'low': '6.1693', 'varBid': '0.0136', 'pctChange': '0.16', 'bid': '6.1964', 'ask': '6.1974', 'timestamp': '1735343998'}, {'high': '6.2151', 'low': '6.1462', 'varBid': '0.0103', 'pctChange': '0.17', 'bid': '6.1926', 'ask': '6.1936', 'timestamp': '1735334959'}, {'high': '6.1834', 'low': '6.1813', 'varBid': '-0.0015', 'pctChange': '-0.02', 'bid': '6.1808', 'ask': '6.1818', 'timestamp': '1735252202'}, {'high': '6.7373', 'low': '6.1807', 'varBid': '0.0093', 'pctChange': '0.14', 'bid': '6.7324', 'ask': '6.7354', 'timestamp': '1735171169'}, {'high': '6.1948', 'low': '6.1506', 'varBid': '-0.0157', 'pctChange': '-0.25', 'bid': '6.1756', 'ask': '6.1786', 'timestamp': '1735084744'}, {'high': '6.1967', 'low': '6.1925', 'varBid': '0.0013', 'pctChange': '0.02', 'bid': '6.1939', 'ask': '6.1969', 'timestamp': '1734998316'}, {'high': '6.086', 'low': '6.086', 'varBid': '0', 'pctChange': '0', 'bid': '6.0842', 'ask': '6.0878', 'timestamp': '1734911986'}, {'high': '6.1493', 'low': '6.0435', 'varBid': '-0.0685', 'pctChange': '-1.14', 'bid': '6.085', 'ask': '6.088', 'timestamp': '1734739198'}, {'high': '6.1801', 'low': '6.0435', 'varBid': '-0.0673', 'pctChange': '-1.09', 'bid': '6.085', 'ask': '6.088', 'timestamp': '1734731984'}, {'high': '6.1566', 'low': '6.1507', 'varBid': '-0.0007', 'pctChange': '-0.01', 'bid': '6.1516', 'ask': '6.1546', 'timestamp': '1734652774'}, {'high': '6.3358', 'low': '6.2845', 'varBid': '-0.0001', 'pctChange': '0', 'bid': '6.2886', 'ask': '6.2916', 'timestamp': '1734566371'}, {'high': '6.1092', 'low': '6.1037', 'varBid': '-0.0006', 'pctChange': '-0.01', 'bid': '6.1032', 'ask': '6.1062', 'timestamp': '1734479956'}]\n"
     ]
    }
   ],
   "source": [
    "#Solicitando Informações\n",
    "cotações_dolar = re.get('https://economia.awesomeapi.com.br/json/daily/USD-BRL/30')\n",
    "\n",
    "#Transformando o arquivo json em um dicionário Python\n",
    "cotações_dolar = cotações_dolar.json()\n",
    "\n",
    "print(cotações_dolar)"
   ]
  },
  {
   "cell_type": "markdown",
   "id": "f94dab17-c530-4337-b7f6-102f959936ea",
   "metadata": {},
   "source": [
    "- Um loop é utilizado para iterar pelos dados de cada dia e armazenar o valor de compra (bid) no dicionário dolar, associando-o ao respectivo dia (Dia 1, Dia 2, etc.).\n",
    "- Finalmente, o dicionário é exibido, apresentando as cotações do Dólar para os últimos 30 dias."
   ]
  },
  {
   "cell_type": "code",
   "execution_count": 43,
   "id": "95727dcc-9ba9-4896-98b6-59d6b99d6f91",
   "metadata": {},
   "outputs": [
    {
     "data": {
      "text/plain": [
       "{'dia 1': '6.071',\n",
       " 'dia 2': '6.0499',\n",
       " 'dia 3': '6.0126',\n",
       " 'dia 4': '6.0559',\n",
       " 'dia 5': '6.095',\n",
       " 'dia 6': '6.1059',\n",
       " 'dia 7': '6.0884',\n",
       " 'dia 8': '6.1014',\n",
       " 'dia 9': '6.0351',\n",
       " 'dia 10': '6.1041',\n",
       " 'dia 11': '6.1009',\n",
       " 'dia 12': '6.1152',\n",
       " 'dia 13': '6.178',\n",
       " 'dia 14': '6.178',\n",
       " 'dia 15': '6.151',\n",
       " 'dia 16': '6.3',\n",
       " 'dia 17': '6.184',\n",
       " 'dia 18': '6.1778',\n",
       " 'dia 19': '6.1964',\n",
       " 'dia 20': '6.1926',\n",
       " 'dia 21': '6.1808',\n",
       " 'dia 22': '6.7324',\n",
       " 'dia 23': '6.1756',\n",
       " 'dia 24': '6.1939',\n",
       " 'dia 25': '6.0842',\n",
       " 'dia 26': '6.085',\n",
       " 'dia 27': '6.085',\n",
       " 'dia 28': '6.1516',\n",
       " 'dia 29': '6.2886',\n",
       " 'dia 30': '6.1032'}"
      ]
     },
     "metadata": {},
     "output_type": "display_data"
    }
   ],
   "source": [
    "#Criando dicionários para armazenar as cotações do dólar\n",
    "dolar={}\n",
    "\n",
    "#Inserindo a cotação dos últimos 30 dias no dicionário\n",
    "for i in range (30):\n",
    "        dolar[f'dia {i+1}']=cotações_dolar[i]['bid']\n",
    "        euro[f'dia {i+1}']=cotações_euro[i]['bid']\n",
    "        bitcoin[f'dia {i+1}']=cotações_dolar[i]['bid']\n",
    "\n",
    "#Exebindo informações\n",
    "display(dolar)"
   ]
  }
 ],
 "metadata": {
  "kernelspec": {
   "display_name": "Python 3 (ipykernel)",
   "language": "python",
   "name": "python3"
  },
  "language_info": {
   "codemirror_mode": {
    "name": "ipython",
    "version": 3
   },
   "file_extension": ".py",
   "mimetype": "text/x-python",
   "name": "python",
   "nbconvert_exporter": "python",
   "pygments_lexer": "ipython3",
   "version": "3.12.7"
  }
 },
 "nbformat": 4,
 "nbformat_minor": 5
}
