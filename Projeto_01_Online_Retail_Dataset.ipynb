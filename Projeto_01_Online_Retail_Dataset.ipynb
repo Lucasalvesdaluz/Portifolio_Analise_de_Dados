{
  "nbformat": 4,
  "nbformat_minor": 0,
  "metadata": {
    "colab": {
      "provenance": [],
      "authorship_tag": "ABX9TyMXvNJrJ0uTEyzgpMl5Wgd6",
      "include_colab_link": true
    },
    "kernelspec": {
      "name": "python3",
      "display_name": "Python 3"
    },
    "language_info": {
      "name": "python"
    }
  },
  "cells": [
    {
      "cell_type": "markdown",
      "metadata": {
        "id": "view-in-github",
        "colab_type": "text"
      },
      "source": [
        "<a href=\"https://colab.research.google.com/github/Lucasalvesdaluz/Portifolio_Analise_de_Dados/blob/main/Projeto_01_Online_Retail_Dataset.ipynb\" target=\"_parent\"><img src=\"https://colab.research.google.com/assets/colab-badge.svg\" alt=\"Open In Colab\"/></a>"
      ]
    },
    {
      "cell_type": "markdown",
      "source": [
        "# **Descrição da Base de Dados**\n",
        "Transações de uma loja de varejo on-line sediada no Reino Unido.\n",
        "\n",
        "# **Objetivos da Análise**\n",
        "\n",
        "1. Identificar os períodos com maiores números de transações.\n",
        "2. Analisar quais produtos são mais populares e quais podem ter problemas de devolução.\n",
        "\n",
        "# **Dicionário**\n",
        "- **InvoiceNo:** Número da fatura. Um número integral de 6 dígitos atribuído exclusivamente a cada transação. Se este código começar com a letra 'c', indica um cancelamento.\n",
        "\n",
        "- **StockCode:** Código do produto. Uma numeração atribuída exclusivamente a cada produto distinto.\n",
        "\n",
        "- **Description:** Nome do produto.\n",
        "\n",
        "- **Quantity:** As quantidades de cada produto por transação.\n",
        "\n",
        "- **InvoiceDate:** O dia e a hora em que cada transação foi realizada.\n",
        "\n",
        "- **UnitPrice:** Preço unitário. Preço do produto por unidade.\n",
        "\n",
        "- **CustomerID:** ID do cliente. Um número integral de 5 dígitos atribuído exclusivamente a cada cliente.\n",
        "\n",
        "- **Country:** O nome do país onde cada cliente reside.\n",
        "\n",
        "📊**Baixe esse dataset gratuitamente na plataforma do Kaggle:**\n",
        "\n",
        "https://www.kaggle.com/datasets/ulrikthygepedersen/online-retail-dataset/data\n"
      ],
      "metadata": {
        "id": "aWkucPYRM9nR"
      }
    },
    {
      "cell_type": "markdown",
      "source": [
        "# **1 Inspeção Geral**\n",
        "\n",
        "Nessa etapa, o dataframe será inspecionado afim de entendermos quais dados são apresentados, seu contexto e quais perguntas ele pode nos responder."
      ],
      "metadata": {
        "id": "jed7d0iESEXO"
      }
    },
    {
      "cell_type": "code",
      "execution_count": 74,
      "metadata": {
        "colab": {
          "base_uri": "https://localhost:8080/",
          "height": 484
        },
        "collapsed": true,
        "id": "CU15GskRMHdh",
        "outputId": "d4ac622b-5c4e-4e79-8807-80504e3a284f"
      },
      "outputs": [
        {
          "output_type": "display_data",
          "data": {
            "text/plain": [
              "  InvoiceNo StockCode                          Description  Quantity  \\\n",
              "0    536365    85123A   WHITE HANGING HEART T-LIGHT HOLDER         6   \n",
              "1    536365     71053                  WHITE METAL LANTERN         6   \n",
              "2    536365    84406B       CREAM CUPID HEARTS COAT HANGER         8   \n",
              "3    536365    84029G  KNITTED UNION FLAG HOT WATER BOTTLE         6   \n",
              "4    536365    84029E       RED WOOLLY HOTTIE WHITE HEART.         6   \n",
              "\n",
              "           InvoiceDate  UnitPrice  CustomerID         Country  \n",
              "0  2010-12-01 08:26:00       2.55     17850.0  United Kingdom  \n",
              "1  2010-12-01 08:26:00       3.39     17850.0  United Kingdom  \n",
              "2  2010-12-01 08:26:00       2.75     17850.0  United Kingdom  \n",
              "3  2010-12-01 08:26:00       3.39     17850.0  United Kingdom  \n",
              "4  2010-12-01 08:26:00       3.39     17850.0  United Kingdom  "
            ],
            "text/html": [
              "\n",
              "  <div id=\"df-eb9ec49b-30c4-4f1f-bfe1-51cd93039ca7\" class=\"colab-df-container\">\n",
              "    <div>\n",
              "<style scoped>\n",
              "    .dataframe tbody tr th:only-of-type {\n",
              "        vertical-align: middle;\n",
              "    }\n",
              "\n",
              "    .dataframe tbody tr th {\n",
              "        vertical-align: top;\n",
              "    }\n",
              "\n",
              "    .dataframe thead th {\n",
              "        text-align: right;\n",
              "    }\n",
              "</style>\n",
              "<table border=\"1\" class=\"dataframe\">\n",
              "  <thead>\n",
              "    <tr style=\"text-align: right;\">\n",
              "      <th></th>\n",
              "      <th>InvoiceNo</th>\n",
              "      <th>StockCode</th>\n",
              "      <th>Description</th>\n",
              "      <th>Quantity</th>\n",
              "      <th>InvoiceDate</th>\n",
              "      <th>UnitPrice</th>\n",
              "      <th>CustomerID</th>\n",
              "      <th>Country</th>\n",
              "    </tr>\n",
              "  </thead>\n",
              "  <tbody>\n",
              "    <tr>\n",
              "      <th>0</th>\n",
              "      <td>536365</td>\n",
              "      <td>85123A</td>\n",
              "      <td>WHITE HANGING HEART T-LIGHT HOLDER</td>\n",
              "      <td>6</td>\n",
              "      <td>2010-12-01 08:26:00</td>\n",
              "      <td>2.55</td>\n",
              "      <td>17850.0</td>\n",
              "      <td>United Kingdom</td>\n",
              "    </tr>\n",
              "    <tr>\n",
              "      <th>1</th>\n",
              "      <td>536365</td>\n",
              "      <td>71053</td>\n",
              "      <td>WHITE METAL LANTERN</td>\n",
              "      <td>6</td>\n",
              "      <td>2010-12-01 08:26:00</td>\n",
              "      <td>3.39</td>\n",
              "      <td>17850.0</td>\n",
              "      <td>United Kingdom</td>\n",
              "    </tr>\n",
              "    <tr>\n",
              "      <th>2</th>\n",
              "      <td>536365</td>\n",
              "      <td>84406B</td>\n",
              "      <td>CREAM CUPID HEARTS COAT HANGER</td>\n",
              "      <td>8</td>\n",
              "      <td>2010-12-01 08:26:00</td>\n",
              "      <td>2.75</td>\n",
              "      <td>17850.0</td>\n",
              "      <td>United Kingdom</td>\n",
              "    </tr>\n",
              "    <tr>\n",
              "      <th>3</th>\n",
              "      <td>536365</td>\n",
              "      <td>84029G</td>\n",
              "      <td>KNITTED UNION FLAG HOT WATER BOTTLE</td>\n",
              "      <td>6</td>\n",
              "      <td>2010-12-01 08:26:00</td>\n",
              "      <td>3.39</td>\n",
              "      <td>17850.0</td>\n",
              "      <td>United Kingdom</td>\n",
              "    </tr>\n",
              "    <tr>\n",
              "      <th>4</th>\n",
              "      <td>536365</td>\n",
              "      <td>84029E</td>\n",
              "      <td>RED WOOLLY HOTTIE WHITE HEART.</td>\n",
              "      <td>6</td>\n",
              "      <td>2010-12-01 08:26:00</td>\n",
              "      <td>3.39</td>\n",
              "      <td>17850.0</td>\n",
              "      <td>United Kingdom</td>\n",
              "    </tr>\n",
              "  </tbody>\n",
              "</table>\n",
              "</div>\n",
              "    <div class=\"colab-df-buttons\">\n",
              "\n",
              "  <div class=\"colab-df-container\">\n",
              "    <button class=\"colab-df-convert\" onclick=\"convertToInteractive('df-eb9ec49b-30c4-4f1f-bfe1-51cd93039ca7')\"\n",
              "            title=\"Convert this dataframe to an interactive table.\"\n",
              "            style=\"display:none;\">\n",
              "\n",
              "  <svg xmlns=\"http://www.w3.org/2000/svg\" height=\"24px\" viewBox=\"0 -960 960 960\">\n",
              "    <path d=\"M120-120v-720h720v720H120Zm60-500h600v-160H180v160Zm220 220h160v-160H400v160Zm0 220h160v-160H400v160ZM180-400h160v-160H180v160Zm440 0h160v-160H620v160ZM180-180h160v-160H180v160Zm440 0h160v-160H620v160Z\"/>\n",
              "  </svg>\n",
              "    </button>\n",
              "\n",
              "  <style>\n",
              "    .colab-df-container {\n",
              "      display:flex;\n",
              "      gap: 12px;\n",
              "    }\n",
              "\n",
              "    .colab-df-convert {\n",
              "      background-color: #E8F0FE;\n",
              "      border: none;\n",
              "      border-radius: 50%;\n",
              "      cursor: pointer;\n",
              "      display: none;\n",
              "      fill: #1967D2;\n",
              "      height: 32px;\n",
              "      padding: 0 0 0 0;\n",
              "      width: 32px;\n",
              "    }\n",
              "\n",
              "    .colab-df-convert:hover {\n",
              "      background-color: #E2EBFA;\n",
              "      box-shadow: 0px 1px 2px rgba(60, 64, 67, 0.3), 0px 1px 3px 1px rgba(60, 64, 67, 0.15);\n",
              "      fill: #174EA6;\n",
              "    }\n",
              "\n",
              "    .colab-df-buttons div {\n",
              "      margin-bottom: 4px;\n",
              "    }\n",
              "\n",
              "    [theme=dark] .colab-df-convert {\n",
              "      background-color: #3B4455;\n",
              "      fill: #D2E3FC;\n",
              "    }\n",
              "\n",
              "    [theme=dark] .colab-df-convert:hover {\n",
              "      background-color: #434B5C;\n",
              "      box-shadow: 0px 1px 3px 1px rgba(0, 0, 0, 0.15);\n",
              "      filter: drop-shadow(0px 1px 2px rgba(0, 0, 0, 0.3));\n",
              "      fill: #FFFFFF;\n",
              "    }\n",
              "  </style>\n",
              "\n",
              "    <script>\n",
              "      const buttonEl =\n",
              "        document.querySelector('#df-eb9ec49b-30c4-4f1f-bfe1-51cd93039ca7 button.colab-df-convert');\n",
              "      buttonEl.style.display =\n",
              "        google.colab.kernel.accessAllowed ? 'block' : 'none';\n",
              "\n",
              "      async function convertToInteractive(key) {\n",
              "        const element = document.querySelector('#df-eb9ec49b-30c4-4f1f-bfe1-51cd93039ca7');\n",
              "        const dataTable =\n",
              "          await google.colab.kernel.invokeFunction('convertToInteractive',\n",
              "                                                    [key], {});\n",
              "        if (!dataTable) return;\n",
              "\n",
              "        const docLinkHtml = 'Like what you see? Visit the ' +\n",
              "          '<a target=\"_blank\" href=https://colab.research.google.com/notebooks/data_table.ipynb>data table notebook</a>'\n",
              "          + ' to learn more about interactive tables.';\n",
              "        element.innerHTML = '';\n",
              "        dataTable['output_type'] = 'display_data';\n",
              "        await google.colab.output.renderOutput(dataTable, element);\n",
              "        const docLink = document.createElement('div');\n",
              "        docLink.innerHTML = docLinkHtml;\n",
              "        element.appendChild(docLink);\n",
              "      }\n",
              "    </script>\n",
              "  </div>\n",
              "\n",
              "\n",
              "<div id=\"df-7c67aa94-15af-488f-b421-81d64a3dfa62\">\n",
              "  <button class=\"colab-df-quickchart\" onclick=\"quickchart('df-7c67aa94-15af-488f-b421-81d64a3dfa62')\"\n",
              "            title=\"Suggest charts\"\n",
              "            style=\"display:none;\">\n",
              "\n",
              "<svg xmlns=\"http://www.w3.org/2000/svg\" height=\"24px\"viewBox=\"0 0 24 24\"\n",
              "     width=\"24px\">\n",
              "    <g>\n",
              "        <path d=\"M19 3H5c-1.1 0-2 .9-2 2v14c0 1.1.9 2 2 2h14c1.1 0 2-.9 2-2V5c0-1.1-.9-2-2-2zM9 17H7v-7h2v7zm4 0h-2V7h2v10zm4 0h-2v-4h2v4z\"/>\n",
              "    </g>\n",
              "</svg>\n",
              "  </button>\n",
              "\n",
              "<style>\n",
              "  .colab-df-quickchart {\n",
              "      --bg-color: #E8F0FE;\n",
              "      --fill-color: #1967D2;\n",
              "      --hover-bg-color: #E2EBFA;\n",
              "      --hover-fill-color: #174EA6;\n",
              "      --disabled-fill-color: #AAA;\n",
              "      --disabled-bg-color: #DDD;\n",
              "  }\n",
              "\n",
              "  [theme=dark] .colab-df-quickchart {\n",
              "      --bg-color: #3B4455;\n",
              "      --fill-color: #D2E3FC;\n",
              "      --hover-bg-color: #434B5C;\n",
              "      --hover-fill-color: #FFFFFF;\n",
              "      --disabled-bg-color: #3B4455;\n",
              "      --disabled-fill-color: #666;\n",
              "  }\n",
              "\n",
              "  .colab-df-quickchart {\n",
              "    background-color: var(--bg-color);\n",
              "    border: none;\n",
              "    border-radius: 50%;\n",
              "    cursor: pointer;\n",
              "    display: none;\n",
              "    fill: var(--fill-color);\n",
              "    height: 32px;\n",
              "    padding: 0;\n",
              "    width: 32px;\n",
              "  }\n",
              "\n",
              "  .colab-df-quickchart:hover {\n",
              "    background-color: var(--hover-bg-color);\n",
              "    box-shadow: 0 1px 2px rgba(60, 64, 67, 0.3), 0 1px 3px 1px rgba(60, 64, 67, 0.15);\n",
              "    fill: var(--button-hover-fill-color);\n",
              "  }\n",
              "\n",
              "  .colab-df-quickchart-complete:disabled,\n",
              "  .colab-df-quickchart-complete:disabled:hover {\n",
              "    background-color: var(--disabled-bg-color);\n",
              "    fill: var(--disabled-fill-color);\n",
              "    box-shadow: none;\n",
              "  }\n",
              "\n",
              "  .colab-df-spinner {\n",
              "    border: 2px solid var(--fill-color);\n",
              "    border-color: transparent;\n",
              "    border-bottom-color: var(--fill-color);\n",
              "    animation:\n",
              "      spin 1s steps(1) infinite;\n",
              "  }\n",
              "\n",
              "  @keyframes spin {\n",
              "    0% {\n",
              "      border-color: transparent;\n",
              "      border-bottom-color: var(--fill-color);\n",
              "      border-left-color: var(--fill-color);\n",
              "    }\n",
              "    20% {\n",
              "      border-color: transparent;\n",
              "      border-left-color: var(--fill-color);\n",
              "      border-top-color: var(--fill-color);\n",
              "    }\n",
              "    30% {\n",
              "      border-color: transparent;\n",
              "      border-left-color: var(--fill-color);\n",
              "      border-top-color: var(--fill-color);\n",
              "      border-right-color: var(--fill-color);\n",
              "    }\n",
              "    40% {\n",
              "      border-color: transparent;\n",
              "      border-right-color: var(--fill-color);\n",
              "      border-top-color: var(--fill-color);\n",
              "    }\n",
              "    60% {\n",
              "      border-color: transparent;\n",
              "      border-right-color: var(--fill-color);\n",
              "    }\n",
              "    80% {\n",
              "      border-color: transparent;\n",
              "      border-right-color: var(--fill-color);\n",
              "      border-bottom-color: var(--fill-color);\n",
              "    }\n",
              "    90% {\n",
              "      border-color: transparent;\n",
              "      border-bottom-color: var(--fill-color);\n",
              "    }\n",
              "  }\n",
              "</style>\n",
              "\n",
              "  <script>\n",
              "    async function quickchart(key) {\n",
              "      const quickchartButtonEl =\n",
              "        document.querySelector('#' + key + ' button');\n",
              "      quickchartButtonEl.disabled = true;  // To prevent multiple clicks.\n",
              "      quickchartButtonEl.classList.add('colab-df-spinner');\n",
              "      try {\n",
              "        const charts = await google.colab.kernel.invokeFunction(\n",
              "            'suggestCharts', [key], {});\n",
              "      } catch (error) {\n",
              "        console.error('Error during call to suggestCharts:', error);\n",
              "      }\n",
              "      quickchartButtonEl.classList.remove('colab-df-spinner');\n",
              "      quickchartButtonEl.classList.add('colab-df-quickchart-complete');\n",
              "    }\n",
              "    (() => {\n",
              "      let quickchartButtonEl =\n",
              "        document.querySelector('#df-7c67aa94-15af-488f-b421-81d64a3dfa62 button');\n",
              "      quickchartButtonEl.style.display =\n",
              "        google.colab.kernel.accessAllowed ? 'block' : 'none';\n",
              "    })();\n",
              "  </script>\n",
              "</div>\n",
              "\n",
              "    </div>\n",
              "  </div>\n"
            ],
            "application/vnd.google.colaboratory.intrinsic+json": {
              "type": "dataframe",
              "summary": "{\n  \"name\": \"display(loja\",\n  \"rows\": 5,\n  \"fields\": [\n    {\n      \"column\": \"InvoiceNo\",\n      \"properties\": {\n        \"dtype\": \"category\",\n        \"num_unique_values\": 1,\n        \"samples\": [\n          \"536365\"\n        ],\n        \"semantic_type\": \"\",\n        \"description\": \"\"\n      }\n    },\n    {\n      \"column\": \"StockCode\",\n      \"properties\": {\n        \"dtype\": \"string\",\n        \"num_unique_values\": 5,\n        \"samples\": [\n          \"71053\"\n        ],\n        \"semantic_type\": \"\",\n        \"description\": \"\"\n      }\n    },\n    {\n      \"column\": \"Description\",\n      \"properties\": {\n        \"dtype\": \"string\",\n        \"num_unique_values\": 5,\n        \"samples\": [\n          \"WHITE METAL LANTERN\"\n        ],\n        \"semantic_type\": \"\",\n        \"description\": \"\"\n      }\n    },\n    {\n      \"column\": \"Quantity\",\n      \"properties\": {\n        \"dtype\": \"number\",\n        \"std\": 0,\n        \"min\": 6,\n        \"max\": 8,\n        \"num_unique_values\": 2,\n        \"samples\": [\n          8\n        ],\n        \"semantic_type\": \"\",\n        \"description\": \"\"\n      }\n    },\n    {\n      \"column\": \"InvoiceDate\",\n      \"properties\": {\n        \"dtype\": \"object\",\n        \"num_unique_values\": 1,\n        \"samples\": [\n          \"2010-12-01 08:26:00\"\n        ],\n        \"semantic_type\": \"\",\n        \"description\": \"\"\n      }\n    },\n    {\n      \"column\": \"UnitPrice\",\n      \"properties\": {\n        \"dtype\": \"number\",\n        \"std\": 0.41143650785996144,\n        \"min\": 2.55,\n        \"max\": 3.39,\n        \"num_unique_values\": 3,\n        \"samples\": [\n          2.55\n        ],\n        \"semantic_type\": \"\",\n        \"description\": \"\"\n      }\n    },\n    {\n      \"column\": \"CustomerID\",\n      \"properties\": {\n        \"dtype\": \"number\",\n        \"std\": 0.0,\n        \"min\": 17850.0,\n        \"max\": 17850.0,\n        \"num_unique_values\": 1,\n        \"samples\": [\n          17850.0\n        ],\n        \"semantic_type\": \"\",\n        \"description\": \"\"\n      }\n    },\n    {\n      \"column\": \"Country\",\n      \"properties\": {\n        \"dtype\": \"category\",\n        \"num_unique_values\": 1,\n        \"samples\": [\n          \"United Kingdom\"\n        ],\n        \"semantic_type\": \"\",\n        \"description\": \"\"\n      }\n    }\n  ]\n}"
            }
          },
          "metadata": {}
        },
        {
          "output_type": "stream",
          "name": "stdout",
          "text": [
            "<class 'pandas.core.frame.DataFrame'>\n",
            "RangeIndex: 541909 entries, 0 to 541908\n",
            "Data columns (total 8 columns):\n",
            " #   Column       Non-Null Count   Dtype  \n",
            "---  ------       --------------   -----  \n",
            " 0   InvoiceNo    541909 non-null  object \n",
            " 1   StockCode    541909 non-null  object \n",
            " 2   Description  540455 non-null  object \n",
            " 3   Quantity     541909 non-null  int64  \n",
            " 4   InvoiceDate  541909 non-null  object \n",
            " 5   UnitPrice    541909 non-null  float64\n",
            " 6   CustomerID   406829 non-null  float64\n",
            " 7   Country      541909 non-null  object \n",
            "dtypes: float64(2), int64(1), object(5)\n",
            "memory usage: 33.1+ MB\n"
          ]
        },
        {
          "output_type": "display_data",
          "data": {
            "text/plain": [
              "None"
            ]
          },
          "metadata": {}
        }
      ],
      "source": [
        "#Importando bibliotecas e o dataframe\n",
        "import pandas as pd\n",
        "import matplotlib.pyplot as plt\n",
        "\n",
        "loja=pd.read_csv('/content/online_retail.csv')\n",
        "\n",
        "#Inspeção Geral\n",
        "display(loja.head())\n",
        "display(loja.info())"
      ]
    },
    {
      "cell_type": "markdown",
      "source": [
        "# **2 Limpeza dos Dados**\n",
        "\n",
        "\n",
        "\n",
        "\n",
        "\n",
        "\n"
      ],
      "metadata": {
        "id": "P-P4SyG8nkS6"
      }
    },
    {
      "cell_type": "markdown",
      "source": [
        "**2.1 Removendo valores nulos:**\n",
        "\n",
        "Conforme observamos ao utilizar o método \"info()\", as únicas colunas que possuem valores nulos são as colunas \"Description\" e \"CustomerID\".\n",
        "\n",
        "Podemos confirmar isso retornando a **quantidade de valores nulos** em cada uma dessas colunas da seguinte forma:"
      ],
      "metadata": {
        "id": "DyEdgpyDR8Ap"
      }
    },
    {
      "cell_type": "code",
      "source": [
        "display(loja['Description'].isnull().sum())\n",
        "display(loja['CustomerID'].isnull().sum())"
      ],
      "metadata": {
        "id": "0dinySDCnj-r",
        "colab": {
          "base_uri": "https://localhost:8080/",
          "height": 52
        },
        "outputId": "04903079-8d22-4ac4-9c67-b0968278d401"
      },
      "execution_count": 75,
      "outputs": [
        {
          "output_type": "display_data",
          "data": {
            "text/plain": [
              "1454"
            ]
          },
          "metadata": {}
        },
        {
          "output_type": "display_data",
          "data": {
            "text/plain": [
              "135080"
            ]
          },
          "metadata": {}
        }
      ]
    },
    {
      "cell_type": "markdown",
      "source": [
        "Agora deletaremos apenas as linhas com valores nulos da coluna \"CustomerID\". Já as linhas com valores nulos na coluna \"Description\" serão mantidos, pois os produtos desse loja também podem ser identificados pela coluna \"StockCode\"."
      ],
      "metadata": {
        "id": "llT_wDMsSjBy"
      }
    },
    {
      "cell_type": "code",
      "source": [
        "loja=loja.dropna(subset=['CustomerID'])"
      ],
      "metadata": {
        "id": "Wmu1pHbGTXzD"
      },
      "execution_count": 76,
      "outputs": []
    },
    {
      "cell_type": "markdown",
      "source": [
        "**2.2 Removendo Colunas Inúteis**\n",
        "\n",
        "Tendo em vista que a coluna que será utilizada para identificarmos os produtos dessa loja será a \"StockCode\", a qual não possui valores nulos, iremos deletar a coluna \"description\", que acabará não tendo utilidade em nossa análise."
      ],
      "metadata": {
        "id": "0ECwR_6MTNSy"
      }
    },
    {
      "cell_type": "code",
      "source": [
        "loja=loja.drop('Description',axis=1)"
      ],
      "metadata": {
        "id": "1dGcHwHhzamg"
      },
      "execution_count": 77,
      "outputs": []
    },
    {
      "cell_type": "markdown",
      "source": [
        "**2.3 Alterando Tipo:**\n",
        "\n",
        "Para finalizar essa parte de limpeza dos dados, iremos colocar a coluna \"InvoiceDate\" no formato **datetime**."
      ],
      "metadata": {
        "id": "SSVsAhP4Urcc"
      }
    },
    {
      "cell_type": "code",
      "source": [
        "loja['InvoiceDate']=pd.to_datetime(loja['InvoiceDate'])"
      ],
      "metadata": {
        "collapsed": true,
        "id": "kSFEnx8JjUtY"
      },
      "execution_count": 78,
      "outputs": []
    },
    {
      "cell_type": "markdown",
      "source": [
        "**2.4 Remoção de Registros Duplicados:**\n",
        "\n",
        "Transações duplicadas podem introduzir vieses nas métricas de vendas. Por isso, iremos **verificar** a existência de registros duplicados e **deletá-los** do nosso dataframe caso existam."
      ],
      "metadata": {
        "id": "KnF1CX9PUGVW"
      }
    },
    {
      "cell_type": "code",
      "source": [
        "#Verificando a existência de registros duplicados\n",
        "loja.duplicated().sum()"
      ],
      "metadata": {
        "id": "05nvkKYDMebu",
        "colab": {
          "base_uri": "https://localhost:8080/"
        },
        "outputId": "cde170e7-f651-4c8b-f7b0-34d5809ff0b9"
      },
      "execution_count": 79,
      "outputs": [
        {
          "output_type": "execute_result",
          "data": {
            "text/plain": [
              "5227"
            ]
          },
          "metadata": {},
          "execution_count": 79
        }
      ]
    },
    {
      "cell_type": "code",
      "source": [
        "#Remoção de registros duplicados, com exceção da primeira ocorrência\n",
        "loja=loja.drop_duplicates(keep='first')"
      ],
      "metadata": {
        "id": "l7-rMVLaiwSq"
      },
      "execution_count": 80,
      "outputs": []
    },
    {
      "cell_type": "markdown",
      "source": [
        "# **3 Análise Exploratória**"
      ],
      "metadata": {
        "id": "83HOEdQ3IVf0"
      }
    },
    {
      "cell_type": "markdown",
      "source": [
        "\n",
        "**3.1 Em quais períodos podemos encontrar os maiores números de transações?**\n",
        "\n",
        "Para responder a essa pergunta, será necessário criar duas novas colunas que contenham as informações de mês e ano da coluna \"InvoiceDate\". Assim, poderemos explorar esses dados com maior liberdade.\n",
        "\n",
        "Após essa etapa, precisamos identificar os valores distintos da coluna \"Ano\", que são 2010 e 2011.\n",
        "\n",
        "Observe isso sendo aplicado no código abaixo:"
      ],
      "metadata": {
        "id": "D6o5VJ3j35hw"
      }
    },
    {
      "cell_type": "code",
      "source": [
        "#Extraindo informações de data/criando novas colunas\n",
        "loja['Ano']=loja['InvoiceDate'].dt.year\n",
        "loja['Mês']=loja['InvoiceDate'].dt.month\n",
        "\n",
        "#Descobrindo os valores destintos da coluna \"Ano\"\n",
        "loja['Ano'].unique()"
      ],
      "metadata": {
        "collapsed": true,
        "id": "qfE83IyZ6ffe",
        "colab": {
          "base_uri": "https://localhost:8080/"
        },
        "outputId": "8bf3ec0a-f525-45dc-f61c-55805ea51208"
      },
      "execution_count": 81,
      "outputs": [
        {
          "output_type": "stream",
          "name": "stderr",
          "text": [
            "<ipython-input-81-db3aea3b0d14>:2: SettingWithCopyWarning: \n",
            "A value is trying to be set on a copy of a slice from a DataFrame.\n",
            "Try using .loc[row_indexer,col_indexer] = value instead\n",
            "\n",
            "See the caveats in the documentation: https://pandas.pydata.org/pandas-docs/stable/user_guide/indexing.html#returning-a-view-versus-a-copy\n",
            "  loja['Ano']=loja['InvoiceDate'].dt.year\n",
            "<ipython-input-81-db3aea3b0d14>:3: SettingWithCopyWarning: \n",
            "A value is trying to be set on a copy of a slice from a DataFrame.\n",
            "Try using .loc[row_indexer,col_indexer] = value instead\n",
            "\n",
            "See the caveats in the documentation: https://pandas.pydata.org/pandas-docs/stable/user_guide/indexing.html#returning-a-view-versus-a-copy\n",
            "  loja['Mês']=loja['InvoiceDate'].dt.month\n"
          ]
        },
        {
          "output_type": "execute_result",
          "data": {
            "text/plain": [
              "array([2010, 2011], dtype=int32)"
            ]
          },
          "metadata": {},
          "execution_count": 81
        }
      ]
    },
    {
      "cell_type": "markdown",
      "source": [
        "O aviso **SettingWithCopyWarning** acima ocorre porque estamos trabalhando com uma cópia de uma fatia do DataFrame original, após a remoção dos registros duplicados no tópico anterior. No entanto, isso não causará nenhum problema durante a análise, portanto, podemos prosseguir sem preocupações.\n",
        "\n",
        "Uma observação importante é que os dados referentes ao ano de 2010 dessa empresa estão **incompletos**, pois temos acesso apenas ao mês de dezembro. Isso limita nossa análise e pode afetar a precisão dos resultados.\n",
        "\n",
        "Você pode verificar essa informação executando o código abaixo."
      ],
      "metadata": {
        "id": "gh0l2zQGPy_C"
      }
    },
    {
      "cell_type": "code",
      "source": [
        "# Filtrando as transações de 2010\n",
        "transacoes_2010 = loja[loja['Ano'] == 2010].groupby('Mês').count()\n",
        "transacoes_2010"
      ],
      "metadata": {
        "id": "hgrg3oy6abUH",
        "colab": {
          "base_uri": "https://localhost:8080/",
          "height": 112
        },
        "outputId": "5ae6ebd5-43e3-470b-83ff-55fd1682cc56"
      },
      "execution_count": 82,
      "outputs": [
        {
          "output_type": "execute_result",
          "data": {
            "text/plain": [
              "     InvoiceNo  StockCode  Quantity  InvoiceDate  UnitPrice  CustomerID  \\\n",
              "Mês                                                                       \n",
              "12       26354      26354     26354        26354      26354       26354   \n",
              "\n",
              "     Country    Ano  \n",
              "Mês                  \n",
              "12     26354  26354  "
            ],
            "text/html": [
              "\n",
              "  <div id=\"df-ca5b235b-85d7-478f-82eb-a2b30114a108\" class=\"colab-df-container\">\n",
              "    <div>\n",
              "<style scoped>\n",
              "    .dataframe tbody tr th:only-of-type {\n",
              "        vertical-align: middle;\n",
              "    }\n",
              "\n",
              "    .dataframe tbody tr th {\n",
              "        vertical-align: top;\n",
              "    }\n",
              "\n",
              "    .dataframe thead th {\n",
              "        text-align: right;\n",
              "    }\n",
              "</style>\n",
              "<table border=\"1\" class=\"dataframe\">\n",
              "  <thead>\n",
              "    <tr style=\"text-align: right;\">\n",
              "      <th></th>\n",
              "      <th>InvoiceNo</th>\n",
              "      <th>StockCode</th>\n",
              "      <th>Quantity</th>\n",
              "      <th>InvoiceDate</th>\n",
              "      <th>UnitPrice</th>\n",
              "      <th>CustomerID</th>\n",
              "      <th>Country</th>\n",
              "      <th>Ano</th>\n",
              "    </tr>\n",
              "    <tr>\n",
              "      <th>Mês</th>\n",
              "      <th></th>\n",
              "      <th></th>\n",
              "      <th></th>\n",
              "      <th></th>\n",
              "      <th></th>\n",
              "      <th></th>\n",
              "      <th></th>\n",
              "      <th></th>\n",
              "    </tr>\n",
              "  </thead>\n",
              "  <tbody>\n",
              "    <tr>\n",
              "      <th>12</th>\n",
              "      <td>26354</td>\n",
              "      <td>26354</td>\n",
              "      <td>26354</td>\n",
              "      <td>26354</td>\n",
              "      <td>26354</td>\n",
              "      <td>26354</td>\n",
              "      <td>26354</td>\n",
              "      <td>26354</td>\n",
              "    </tr>\n",
              "  </tbody>\n",
              "</table>\n",
              "</div>\n",
              "    <div class=\"colab-df-buttons\">\n",
              "\n",
              "  <div class=\"colab-df-container\">\n",
              "    <button class=\"colab-df-convert\" onclick=\"convertToInteractive('df-ca5b235b-85d7-478f-82eb-a2b30114a108')\"\n",
              "            title=\"Convert this dataframe to an interactive table.\"\n",
              "            style=\"display:none;\">\n",
              "\n",
              "  <svg xmlns=\"http://www.w3.org/2000/svg\" height=\"24px\" viewBox=\"0 -960 960 960\">\n",
              "    <path d=\"M120-120v-720h720v720H120Zm60-500h600v-160H180v160Zm220 220h160v-160H400v160Zm0 220h160v-160H400v160ZM180-400h160v-160H180v160Zm440 0h160v-160H620v160ZM180-180h160v-160H180v160Zm440 0h160v-160H620v160Z\"/>\n",
              "  </svg>\n",
              "    </button>\n",
              "\n",
              "  <style>\n",
              "    .colab-df-container {\n",
              "      display:flex;\n",
              "      gap: 12px;\n",
              "    }\n",
              "\n",
              "    .colab-df-convert {\n",
              "      background-color: #E8F0FE;\n",
              "      border: none;\n",
              "      border-radius: 50%;\n",
              "      cursor: pointer;\n",
              "      display: none;\n",
              "      fill: #1967D2;\n",
              "      height: 32px;\n",
              "      padding: 0 0 0 0;\n",
              "      width: 32px;\n",
              "    }\n",
              "\n",
              "    .colab-df-convert:hover {\n",
              "      background-color: #E2EBFA;\n",
              "      box-shadow: 0px 1px 2px rgba(60, 64, 67, 0.3), 0px 1px 3px 1px rgba(60, 64, 67, 0.15);\n",
              "      fill: #174EA6;\n",
              "    }\n",
              "\n",
              "    .colab-df-buttons div {\n",
              "      margin-bottom: 4px;\n",
              "    }\n",
              "\n",
              "    [theme=dark] .colab-df-convert {\n",
              "      background-color: #3B4455;\n",
              "      fill: #D2E3FC;\n",
              "    }\n",
              "\n",
              "    [theme=dark] .colab-df-convert:hover {\n",
              "      background-color: #434B5C;\n",
              "      box-shadow: 0px 1px 3px 1px rgba(0, 0, 0, 0.15);\n",
              "      filter: drop-shadow(0px 1px 2px rgba(0, 0, 0, 0.3));\n",
              "      fill: #FFFFFF;\n",
              "    }\n",
              "  </style>\n",
              "\n",
              "    <script>\n",
              "      const buttonEl =\n",
              "        document.querySelector('#df-ca5b235b-85d7-478f-82eb-a2b30114a108 button.colab-df-convert');\n",
              "      buttonEl.style.display =\n",
              "        google.colab.kernel.accessAllowed ? 'block' : 'none';\n",
              "\n",
              "      async function convertToInteractive(key) {\n",
              "        const element = document.querySelector('#df-ca5b235b-85d7-478f-82eb-a2b30114a108');\n",
              "        const dataTable =\n",
              "          await google.colab.kernel.invokeFunction('convertToInteractive',\n",
              "                                                    [key], {});\n",
              "        if (!dataTable) return;\n",
              "\n",
              "        const docLinkHtml = 'Like what you see? Visit the ' +\n",
              "          '<a target=\"_blank\" href=https://colab.research.google.com/notebooks/data_table.ipynb>data table notebook</a>'\n",
              "          + ' to learn more about interactive tables.';\n",
              "        element.innerHTML = '';\n",
              "        dataTable['output_type'] = 'display_data';\n",
              "        await google.colab.output.renderOutput(dataTable, element);\n",
              "        const docLink = document.createElement('div');\n",
              "        docLink.innerHTML = docLinkHtml;\n",
              "        element.appendChild(docLink);\n",
              "      }\n",
              "    </script>\n",
              "  </div>\n",
              "\n",
              "\n",
              "  <div id=\"id_cb5d64ff-5eb3-4f0b-bcf0-436daa051429\">\n",
              "    <style>\n",
              "      .colab-df-generate {\n",
              "        background-color: #E8F0FE;\n",
              "        border: none;\n",
              "        border-radius: 50%;\n",
              "        cursor: pointer;\n",
              "        display: none;\n",
              "        fill: #1967D2;\n",
              "        height: 32px;\n",
              "        padding: 0 0 0 0;\n",
              "        width: 32px;\n",
              "      }\n",
              "\n",
              "      .colab-df-generate:hover {\n",
              "        background-color: #E2EBFA;\n",
              "        box-shadow: 0px 1px 2px rgba(60, 64, 67, 0.3), 0px 1px 3px 1px rgba(60, 64, 67, 0.15);\n",
              "        fill: #174EA6;\n",
              "      }\n",
              "\n",
              "      [theme=dark] .colab-df-generate {\n",
              "        background-color: #3B4455;\n",
              "        fill: #D2E3FC;\n",
              "      }\n",
              "\n",
              "      [theme=dark] .colab-df-generate:hover {\n",
              "        background-color: #434B5C;\n",
              "        box-shadow: 0px 1px 3px 1px rgba(0, 0, 0, 0.15);\n",
              "        filter: drop-shadow(0px 1px 2px rgba(0, 0, 0, 0.3));\n",
              "        fill: #FFFFFF;\n",
              "      }\n",
              "    </style>\n",
              "    <button class=\"colab-df-generate\" onclick=\"generateWithVariable('transacoes_2010')\"\n",
              "            title=\"Generate code using this dataframe.\"\n",
              "            style=\"display:none;\">\n",
              "\n",
              "  <svg xmlns=\"http://www.w3.org/2000/svg\" height=\"24px\"viewBox=\"0 0 24 24\"\n",
              "       width=\"24px\">\n",
              "    <path d=\"M7,19H8.4L18.45,9,17,7.55,7,17.6ZM5,21V16.75L18.45,3.32a2,2,0,0,1,2.83,0l1.4,1.43a1.91,1.91,0,0,1,.58,1.4,1.91,1.91,0,0,1-.58,1.4L9.25,21ZM18.45,9,17,7.55Zm-12,3A5.31,5.31,0,0,0,4.9,8.1,5.31,5.31,0,0,0,1,6.5,5.31,5.31,0,0,0,4.9,4.9,5.31,5.31,0,0,0,6.5,1,5.31,5.31,0,0,0,8.1,4.9,5.31,5.31,0,0,0,12,6.5,5.46,5.46,0,0,0,6.5,12Z\"/>\n",
              "  </svg>\n",
              "    </button>\n",
              "    <script>\n",
              "      (() => {\n",
              "      const buttonEl =\n",
              "        document.querySelector('#id_cb5d64ff-5eb3-4f0b-bcf0-436daa051429 button.colab-df-generate');\n",
              "      buttonEl.style.display =\n",
              "        google.colab.kernel.accessAllowed ? 'block' : 'none';\n",
              "\n",
              "      buttonEl.onclick = () => {\n",
              "        google.colab.notebook.generateWithVariable('transacoes_2010');\n",
              "      }\n",
              "      })();\n",
              "    </script>\n",
              "  </div>\n",
              "\n",
              "    </div>\n",
              "  </div>\n"
            ],
            "application/vnd.google.colaboratory.intrinsic+json": {
              "type": "dataframe",
              "variable_name": "transacoes_2010",
              "summary": "{\n  \"name\": \"transacoes_2010\",\n  \"rows\": 1,\n  \"fields\": [\n    {\n      \"column\": \"M\\u00eas\",\n      \"properties\": {\n        \"dtype\": \"int32\",\n        \"num_unique_values\": 1,\n        \"samples\": [\n          12\n        ],\n        \"semantic_type\": \"\",\n        \"description\": \"\"\n      }\n    },\n    {\n      \"column\": \"InvoiceNo\",\n      \"properties\": {\n        \"dtype\": \"number\",\n        \"std\": null,\n        \"min\": 26354,\n        \"max\": 26354,\n        \"num_unique_values\": 1,\n        \"samples\": [\n          26354\n        ],\n        \"semantic_type\": \"\",\n        \"description\": \"\"\n      }\n    },\n    {\n      \"column\": \"StockCode\",\n      \"properties\": {\n        \"dtype\": \"number\",\n        \"std\": null,\n        \"min\": 26354,\n        \"max\": 26354,\n        \"num_unique_values\": 1,\n        \"samples\": [\n          26354\n        ],\n        \"semantic_type\": \"\",\n        \"description\": \"\"\n      }\n    },\n    {\n      \"column\": \"Quantity\",\n      \"properties\": {\n        \"dtype\": \"number\",\n        \"std\": null,\n        \"min\": 26354,\n        \"max\": 26354,\n        \"num_unique_values\": 1,\n        \"samples\": [\n          26354\n        ],\n        \"semantic_type\": \"\",\n        \"description\": \"\"\n      }\n    },\n    {\n      \"column\": \"InvoiceDate\",\n      \"properties\": {\n        \"dtype\": \"number\",\n        \"std\": null,\n        \"min\": 26354,\n        \"max\": 26354,\n        \"num_unique_values\": 1,\n        \"samples\": [\n          26354\n        ],\n        \"semantic_type\": \"\",\n        \"description\": \"\"\n      }\n    },\n    {\n      \"column\": \"UnitPrice\",\n      \"properties\": {\n        \"dtype\": \"number\",\n        \"std\": null,\n        \"min\": 26354,\n        \"max\": 26354,\n        \"num_unique_values\": 1,\n        \"samples\": [\n          26354\n        ],\n        \"semantic_type\": \"\",\n        \"description\": \"\"\n      }\n    },\n    {\n      \"column\": \"CustomerID\",\n      \"properties\": {\n        \"dtype\": \"number\",\n        \"std\": null,\n        \"min\": 26354,\n        \"max\": 26354,\n        \"num_unique_values\": 1,\n        \"samples\": [\n          26354\n        ],\n        \"semantic_type\": \"\",\n        \"description\": \"\"\n      }\n    },\n    {\n      \"column\": \"Country\",\n      \"properties\": {\n        \"dtype\": \"number\",\n        \"std\": null,\n        \"min\": 26354,\n        \"max\": 26354,\n        \"num_unique_values\": 1,\n        \"samples\": [\n          26354\n        ],\n        \"semantic_type\": \"\",\n        \"description\": \"\"\n      }\n    },\n    {\n      \"column\": \"Ano\",\n      \"properties\": {\n        \"dtype\": \"number\",\n        \"std\": null,\n        \"min\": 26354,\n        \"max\": 26354,\n        \"num_unique_values\": 1,\n        \"samples\": [\n          26354\n        ],\n        \"semantic_type\": \"\",\n        \"description\": \"\"\n      }\n    }\n  ]\n}"
            }
          },
          "metadata": {},
          "execution_count": 82
        }
      ]
    },
    {
      "cell_type": "markdown",
      "source": [
        "\n",
        "Portanto, **utilizaremos apenas os dados do ano de 2011**.\n",
        "\n",
        "O próximo passo é criar uma variável chamada **transacoes_2011** para armazenar a quantidade mensal de transações desse ano. Nessa variável, não incluiremos cancelamentos ou devoluções; para isso, basta removermos da coluna \"InvoiceNo\" qualquer transação que comece com a letra \"C\"."
      ],
      "metadata": {
        "id": "IkD4UCGBZEaB"
      }
    },
    {
      "cell_type": "code",
      "source": [
        "#Filtrando as transações de 2011\n",
        "transacoes_2011=loja[~loja['InvoiceNo'].str.startswith('C')]\n",
        "transacoes_2011=transacoes_2011[transacoes_2011['Ano']==2011].groupby('Mês').count()\n",
        "transacoes_2011=transacoes_2011['InvoiceNo']\n",
        "transacoes_2011"
      ],
      "metadata": {
        "id": "6dmoRdLOhLbc",
        "colab": {
          "base_uri": "https://localhost:8080/",
          "height": 491
        },
        "outputId": "61d531d0-d59d-44de-d308-eb0a55a934c9"
      },
      "execution_count": 83,
      "outputs": [
        {
          "output_type": "execute_result",
          "data": {
            "text/plain": [
              "Mês\n",
              "1     20991\n",
              "2     19707\n",
              "3     26872\n",
              "4     22435\n",
              "5     28074\n",
              "6     26926\n",
              "7     26582\n",
              "8     26796\n",
              "9     39671\n",
              "10    48796\n",
              "11    63181\n",
              "12    17026\n",
              "Name: InvoiceNo, dtype: int64"
            ],
            "text/html": [
              "<div>\n",
              "<style scoped>\n",
              "    .dataframe tbody tr th:only-of-type {\n",
              "        vertical-align: middle;\n",
              "    }\n",
              "\n",
              "    .dataframe tbody tr th {\n",
              "        vertical-align: top;\n",
              "    }\n",
              "\n",
              "    .dataframe thead th {\n",
              "        text-align: right;\n",
              "    }\n",
              "</style>\n",
              "<table border=\"1\" class=\"dataframe\">\n",
              "  <thead>\n",
              "    <tr style=\"text-align: right;\">\n",
              "      <th></th>\n",
              "      <th>InvoiceNo</th>\n",
              "    </tr>\n",
              "    <tr>\n",
              "      <th>Mês</th>\n",
              "      <th></th>\n",
              "    </tr>\n",
              "  </thead>\n",
              "  <tbody>\n",
              "    <tr>\n",
              "      <th>1</th>\n",
              "      <td>20991</td>\n",
              "    </tr>\n",
              "    <tr>\n",
              "      <th>2</th>\n",
              "      <td>19707</td>\n",
              "    </tr>\n",
              "    <tr>\n",
              "      <th>3</th>\n",
              "      <td>26872</td>\n",
              "    </tr>\n",
              "    <tr>\n",
              "      <th>4</th>\n",
              "      <td>22435</td>\n",
              "    </tr>\n",
              "    <tr>\n",
              "      <th>5</th>\n",
              "      <td>28074</td>\n",
              "    </tr>\n",
              "    <tr>\n",
              "      <th>6</th>\n",
              "      <td>26926</td>\n",
              "    </tr>\n",
              "    <tr>\n",
              "      <th>7</th>\n",
              "      <td>26582</td>\n",
              "    </tr>\n",
              "    <tr>\n",
              "      <th>8</th>\n",
              "      <td>26796</td>\n",
              "    </tr>\n",
              "    <tr>\n",
              "      <th>9</th>\n",
              "      <td>39671</td>\n",
              "    </tr>\n",
              "    <tr>\n",
              "      <th>10</th>\n",
              "      <td>48796</td>\n",
              "    </tr>\n",
              "    <tr>\n",
              "      <th>11</th>\n",
              "      <td>63181</td>\n",
              "    </tr>\n",
              "    <tr>\n",
              "      <th>12</th>\n",
              "      <td>17026</td>\n",
              "    </tr>\n",
              "  </tbody>\n",
              "</table>\n",
              "</div><br><label><b>dtype:</b> int64</label>"
            ]
          },
          "metadata": {},
          "execution_count": 83
        }
      ]
    },
    {
      "cell_type": "markdown",
      "source": [
        "\n",
        "Da mesma forma, criaremos uma variável chamada **cancelamentos_2011**, que armazenará a quantidade mensal de cancelamentos do ano de 2011."
      ],
      "metadata": {
        "id": "EGQ5Bw0_b9pq"
      }
    },
    {
      "cell_type": "code",
      "source": [
        "#Filtrando os cancelamentos de 2011\n",
        "cancelamentos_2011=loja[loja['InvoiceNo'].str.startswith('C')]\n",
        "cancelamentos_2011=cancelamentos_2011[cancelamentos_2011['Ano']==2011].groupby('Mês').count()\n",
        "cancelamentos_2011=cancelamentos_2011['InvoiceNo']"
      ],
      "metadata": {
        "id": "M6r0_CdAb9FQ"
      },
      "execution_count": 84,
      "outputs": []
    },
    {
      "cell_type": "markdown",
      "source": [
        "Vamos observar o número de transações de cada mês para obter uma visão dos **períodos de maior e menor demanda da empresa**. Como se trata de uma análise comparativa, utilizaremos o gráfico de colunas para esse fim."
      ],
      "metadata": {
        "id": "0oj41MbjHK6y"
      }
    },
    {
      "cell_type": "code",
      "source": [
        "#Criando variáveis de mês e quantidade de transações\n",
        "transacoes_2011_grafico=transacoes_2011.reset_index()\n",
        "mes = transacoes_2011_grafico['Mês']\n",
        "qtd_transacoes = transacoes_2011_grafico['InvoiceNo']\n",
        "\n",
        "fig,ax=plt.subplots(figsize=(12,5))\n",
        "\n",
        "#Criando gráfico de colunas\n",
        "colunas = ax.bar(mes,qtd_transacoes,color='blue',alpha=0.6)\n",
        "#Título do gráfico\n",
        "ax.set_title('Quantidade de Transações por Mês',fontweight='bold',fontsize=15,pad=20)\n",
        "#Valores das colunas\n",
        "ax.bar_label(colunas,qtd_transacoes,fontweight='bold',padding=3)\n",
        "#Valores do eixo X\n",
        "ax.set_xticks([1,2,3,4,5,6,7,8,9,10,11,12])\n",
        "#Removendo o eixo Y\n",
        "ax.set_yticks([])\n",
        "#Destacando o mês de dezembro\n",
        "colunas[11].set_color('red')\n",
        "#Removendo box\n",
        "plt.box(False)\n",
        "#Anotação\n",
        "ax.annotate('Aumento no número de tansações', xy=(8.7,35000),xytext=(4,39000),arrowprops=dict(facecolor='b'),\n",
        "            color='white', bbox=dict(boxstyle=\"round,pad=0.5\", edgecolor='none', facecolor='black'), fontweight='bold')\n",
        "\n",
        "plt.show()"
      ],
      "metadata": {
        "id": "oFbAHXhny6Q5",
        "colab": {
          "base_uri": "https://localhost:8080/",
          "height": 491
        },
        "outputId": "cfc6ccb2-69af-4159-ce22-66bca0c1f899"
      },
      "execution_count": 85,
      "outputs": [
        {
          "output_type": "display_data",
          "data": {
            "text/plain": [
              "<Figure size 1200x500 with 1 Axes>"
            ],
            "image/png": "[encoded data removed]"
          },
          "metadata": {}
        }
      ]
    },
    {
      "cell_type": "markdown",
      "source": [
        "Podemos observar que houve um **crescimento significativo** no número de transações a partir de setembro, **atingindo seu ápice em novembro**.\n",
        "\n",
        "Entretanto, em dezembro, ocorreu uma **queda abrupta** no número de transações, fazendo desse **o mês com o menor volume do ano** — inferior até mesmo à média de transações do período de janeiro a agosto.\n",
        "\n",
        "Podemos resumir da seguinte forma:\n",
        "\n",
        "- A média de transações de janeiro a agosto foi de 24.798.\n",
        "- Em setembro, a empresa alcançou 39.671 transações, representando 14.873 transações a mais que a média dos meses anteriores, com o pico em novembro, chegando a 63.181 transações.\n",
        "- Em dezembro, houve uma queda significativa no número de transações, totalizando apenas 17.026, o que corresponde a 7.772 transações a menos do que a média de janeiro a agosto.\n",
        "Observe esses dados através do código abaixo:"
      ],
      "metadata": {
        "id": "AIroMGO6YAwG"
      }
    },
    {
      "cell_type": "code",
      "source": [
        "print(f'Média de transações de janeiro a agosto = {transacoes_2011[0:8].mean().round()}')\n",
        "print(f'Número de transações de setembro = {transacoes_2011[9]}')\n",
        "print(f'Diferença entre o número de transações do mês de setembro e a média de transações dos meses anteriores = {transacoes_2011[9]-transacoes_2011[0:8].mean().round()}')\n",
        "print(f'Número de transações do mês de novembro = {transacoes_2011[11]}')\n",
        "print(f'Número de transações no mês de dezembro = {transacoes_2011[12]}')\n",
        "print(f'Diferença entre o número de transações do mês de dezembro e a média de transações dos meses anteriores = {transacoes_2011[0:8].mean().round()-transacoes_2011[12]}')"
      ],
      "metadata": {
        "id": "Glod0-Q6Z-Hk",
        "collapsed": true,
        "colab": {
          "base_uri": "https://localhost:8080/"
        },
        "outputId": "7805ed02-e879-4f4d-e651-bd2c7419c756"
      },
      "execution_count": 86,
      "outputs": [
        {
          "output_type": "stream",
          "name": "stdout",
          "text": [
            "Média de transações de janeiro a agosto = 24798.0\n",
            "Número de transações de setembro = 39671\n",
            "Diferença entre o número de transações do mês de setembro e a média de transações dos meses anteriores = 14873.0\n",
            "Número de transações do mês de novembro = 63181\n",
            "Número de transações no mês de dezembro = 17026\n",
            "Diferença entre o número de transações do mês de dezembro e a média de transações dos meses anteriores = 7772.0\n"
          ]
        }
      ]
    },
    {
      "cell_type": "markdown",
      "source": [
        "**3.2 Quais produtos podem ter possíveis problemas de devolução no futuro?**"
      ],
      "metadata": {
        "id": "AC190Tw6B1s3"
      }
    },
    {
      "cell_type": "markdown",
      "source": [
        "Agora, vamos observar em um gráfico de linhas a **taxa de cancelamento** de cada mês ao longo de 2011. Isso nos ajudará a identificar se houve um aumento significativo nos cancelamentos em algum período específico do ano."
      ],
      "metadata": {
        "id": "O7gJV_zKamz7"
      }
    },
    {
      "cell_type": "code",
      "source": [
        "#Calculando a taxa de cancelamento de cada mês\n",
        "taxa_cancelamentos=(cancelamentos_2011/transacoes_2011)*100\n",
        "taxa_cancelamentos=taxa_cancelamentos.reset_index()\n",
        "taxa_cancelamentos=taxa_cancelamentos['InvoiceNo']\n",
        "\n",
        "fig,ax = plt.subplots(figsize=(12,5))\n",
        "\n",
        "#Criando gráfico\n",
        "ax.plot(mes,taxa_cancelamentos,'bo-')\n",
        "#Defindo os valores do eixo X\n",
        "ax.set_xticks([1,2,3,4,5,6,7,8,9,10,11,12])\n",
        "#Removendo o eixo Y\n",
        "ax.set_yticks([])\n",
        "#Removendo bordas\n",
        "ax.spines['top'].set_visible(False)\n",
        "ax.spines['right'].set_visible(False)\n",
        "ax.spines['left'].set_visible(False)\n",
        "#Exibindo valores do gráfico\n",
        "for i in range(len(mes)):\n",
        "  if mes[i] in (2,5,9):\n",
        "    ax.annotate(f'{round(taxa_cancelamentos[i],2)}%',xy=(mes[i],taxa_cancelamentos[i]),\n",
        "                xytext=(-7,-17),textcoords='offset points', fontsize=13)\n",
        "  elif mes[i]==11:\n",
        "    ax.annotate(f'{round(taxa_cancelamentos[i],2)}%',xy=(mes[i],taxa_cancelamentos[i]),\n",
        "                xytext=(9,0),textcoords='offset points', fontsize=13)\n",
        "  else:\n",
        "    ax.annotate(f'{round(taxa_cancelamentos[i],2)}%',xy=(mes[i],taxa_cancelamentos[i]),\n",
        "                xytext=(-7,10),textcoords='offset points', fontsize=13)\n",
        "#Título do Gráfico\n",
        "ax.set_title('Taxa de Cancelamento por Mês',fontweight='bold',fontsize=15,pad=20)\n",
        "\n",
        "plt.show()"
      ],
      "metadata": {
        "collapsed": true,
        "id": "V7YpZT39saEF",
        "colab": {
          "base_uri": "https://localhost:8080/",
          "height": 491
        },
        "outputId": "25dc6427-953f-48d9-c1c3-935db1d5c09e"
      },
      "execution_count": 87,
      "outputs": [
        {
          "output_type": "display_data",
          "data": {
            "text/plain": [
              "<Figure size 1200x500 with 1 Axes>"
            ],
            "image/png": "[encoded data removed]"
          },
          "metadata": {}
        }
      ]
    },
    {
      "cell_type": "markdown",
      "source": [
        "No gráfico acima, observamos que a taxa de cancelamento variou entre **1,6% e 3,2%**. Uma análise interessante seria comparar essa taxa com os dados dos anos anteriores da empresa, para verificar se essa variação é consistente ao longo do tempo.\n",
        "\n",
        "Como não temos acesso a essas informações, deixo essa sugestão para análises futuras e seguirei examinando os 10 produtos com maior número de cancelamentos em cada mês.\n",
        "\n",
        "Essa análise nos permitirá identificar os produtos que mais recebem solicitações de cancelamento ao longo do ano e aqueles com cancelamentos mais recentes. Essa informação é crucial para **prever quais produtos podem apresentar problemas de devolução nos próximos meses**.\n",
        "\n",
        "Através do código abaixo, vamos identificar os produtos que figuraram entre os 10 mais cancelados em pelo menos dois meses. Assim, será possível destacar os produtos com maior frequência de cancelamentos ao longo do ano."
      ],
      "metadata": {
        "id": "OLRs_dQfOw2b"
      }
    },
    {
      "cell_type": "code",
      "source": [
        "#1. Filtrando dados do ano de 2011\n",
        "produtos_cancelados=loja[(loja['Ano'] == 2011)]\n",
        "#2. Filtrando dados de cancelamento\n",
        "produtos_cancelados=produtos_cancelados[produtos_cancelados['InvoiceNo'].str.startswith('C')]\n",
        "#3. Selecionando colunas e agrupando dados\n",
        "produtos_cancelados=produtos_cancelados[['StockCode','Mês','Quantity']].groupby(['Mês', 'StockCode']).sum().reset_index()\n",
        "#4. Ordenando a coluna \"Quantity\" em ordem crescente, pois tratam-se de números negativos\n",
        "produtos_cancelados=produtos_cancelados.sort_values('Quantity')\n",
        "#5. Selecionando os 10 produtos com maior número de cancelamentos em cada mês\n",
        "top10_cancelados=[]\n",
        "for i in range(1,13):\n",
        "  top10_cancelados.append(produtos_cancelados[produtos_cancelados['Mês']==i][:10])\n",
        "#6. Contando os produtos que mais aparecem no TOP 10 ao longo do ano.\n",
        "top10_cancelados=pd.concat(top10_cancelados).reset_index(drop=True)\n",
        "cancelados_mais_frequentemente=top10_cancelados['StockCode'].value_counts()\n",
        "cancelados_mais_frequentemente=cancelados_mais_frequentemente[cancelados_mais_frequentemente >= 2]\n",
        "cancelados_mais_frequentemente"
      ],
      "metadata": {
        "id": "h-EUUYIzTBHS",
        "collapsed": true,
        "colab": {
          "base_uri": "https://localhost:8080/",
          "height": 554
        },
        "outputId": "05532bd5-f30f-4c5a-930d-e811b77a32cb"
      },
      "execution_count": 88,
      "outputs": [
        {
          "output_type": "execute_result",
          "data": {
            "text/plain": [
              "StockCode\n",
              "M         7\n",
              "85099B    3\n",
              "20725     3\n",
              "D         3\n",
              "23166     2\n",
              "21877     2\n",
              "15034     2\n",
              "22991     2\n",
              "22992     2\n",
              "22151     2\n",
              "20713     2\n",
              "71477     2\n",
              "22423     2\n",
              "22178     2\n",
              "Name: count, dtype: int64"
            ],
            "text/html": [
              "<div>\n",
              "<style scoped>\n",
              "    .dataframe tbody tr th:only-of-type {\n",
              "        vertical-align: middle;\n",
              "    }\n",
              "\n",
              "    .dataframe tbody tr th {\n",
              "        vertical-align: top;\n",
              "    }\n",
              "\n",
              "    .dataframe thead th {\n",
              "        text-align: right;\n",
              "    }\n",
              "</style>\n",
              "<table border=\"1\" class=\"dataframe\">\n",
              "  <thead>\n",
              "    <tr style=\"text-align: right;\">\n",
              "      <th></th>\n",
              "      <th>count</th>\n",
              "    </tr>\n",
              "    <tr>\n",
              "      <th>StockCode</th>\n",
              "      <th></th>\n",
              "    </tr>\n",
              "  </thead>\n",
              "  <tbody>\n",
              "    <tr>\n",
              "      <th>M</th>\n",
              "      <td>7</td>\n",
              "    </tr>\n",
              "    <tr>\n",
              "      <th>85099B</th>\n",
              "      <td>3</td>\n",
              "    </tr>\n",
              "    <tr>\n",
              "      <th>20725</th>\n",
              "      <td>3</td>\n",
              "    </tr>\n",
              "    <tr>\n",
              "      <th>D</th>\n",
              "      <td>3</td>\n",
              "    </tr>\n",
              "    <tr>\n",
              "      <th>23166</th>\n",
              "      <td>2</td>\n",
              "    </tr>\n",
              "    <tr>\n",
              "      <th>21877</th>\n",
              "      <td>2</td>\n",
              "    </tr>\n",
              "    <tr>\n",
              "      <th>15034</th>\n",
              "      <td>2</td>\n",
              "    </tr>\n",
              "    <tr>\n",
              "      <th>22991</th>\n",
              "      <td>2</td>\n",
              "    </tr>\n",
              "    <tr>\n",
              "      <th>22992</th>\n",
              "      <td>2</td>\n",
              "    </tr>\n",
              "    <tr>\n",
              "      <th>22151</th>\n",
              "      <td>2</td>\n",
              "    </tr>\n",
              "    <tr>\n",
              "      <th>20713</th>\n",
              "      <td>2</td>\n",
              "    </tr>\n",
              "    <tr>\n",
              "      <th>71477</th>\n",
              "      <td>2</td>\n",
              "    </tr>\n",
              "    <tr>\n",
              "      <th>22423</th>\n",
              "      <td>2</td>\n",
              "    </tr>\n",
              "    <tr>\n",
              "      <th>22178</th>\n",
              "      <td>2</td>\n",
              "    </tr>\n",
              "  </tbody>\n",
              "</table>\n",
              "</div><br><label><b>dtype:</b> int64</label>"
            ]
          },
          "metadata": {},
          "execution_count": 88
        }
      ]
    },
    {
      "cell_type": "markdown",
      "source": [
        "Esses são os produtos mais preocupantes, pois apareceram pelo menos em dois meses (não necessariamente consecutivos) na lista dos 10 produtos mais cancelados. Entre eles, o produto que requer atenção urgente é o de código \"M\", que esteve nessa lista durante 7 meses.\n",
        "\n",
        "Outra análise possível seria verificar se algum desses produtos esteve nessa lista nos meses de novembro e dezembro consecutivamente, o que indicaria uma maior probabilidade de causarem problemas no próximo ano.\n",
        "\n",
        "No entanto, o código abaixo mostra que nenhum produto atende a esse critério."
      ],
      "metadata": {
        "id": "ckHtZ8k4uWOG"
      }
    },
    {
      "cell_type": "code",
      "source": [
        "top10_cancelados=top10_cancelados[['Mês','StockCode']]\n",
        "cancelados_recentemente=top10_cancelados[top10_cancelados['Mês']>=11]\n",
        "cancelados_recentemente['StockCode'].duplicated().sum()"
      ],
      "metadata": {
        "id": "TitQutSe_Pt3",
        "colab": {
          "base_uri": "https://localhost:8080/"
        },
        "outputId": "ce84118a-2a4b-4e12-a416-fae17280e056"
      },
      "execution_count": 89,
      "outputs": [
        {
          "output_type": "execute_result",
          "data": {
            "text/plain": [
              "0"
            ]
          },
          "metadata": {},
          "execution_count": 89
        }
      ]
    },
    {
      "cell_type": "markdown",
      "source": [
        "**3.3 Quais produtos possuem a maior frequência de compras?**"
      ],
      "metadata": {
        "id": "pzpx3yIb4wpz"
      }
    },
    {
      "cell_type": "markdown",
      "source": [
        "Vamos responder essa pergunta trazendo uma lista com os 10 produtos com a maior frequência de compra ao longo do ano de 2011.\n",
        "\n",
        "Para isso, vamos seguir as seguintes etapas do código abaixo:"
      ],
      "metadata": {
        "id": "V8hk9ZXnQSEc"
      }
    },
    {
      "cell_type": "code",
      "source": [
        "#1. Filtrando dados de transações do ano de 2011\n",
        "frequencia_de_compra=loja[(loja['Ano'] == 2011) & (~loja['InvoiceNo'].str.startswith('c'))]\n",
        "#2. Selecionando as colunas \"StockCode\" e \"Mês\"\n",
        "frequencia_de_compra=frequencia_de_compra[['StockCode','Mês']]\n",
        "#3. Agrupando os dados pelo \"StockCode\"\n",
        "frequencia_de_compra_mes=frequencia_de_compra.groupby('StockCode').value_counts().reset_index()\n",
        "#4. Criando conjunto de dados que contenha os 10 produtos com a maior frequência total de compras\n",
        "top10_mais_comprados=frequencia_de_compra_mes[['StockCode','count']].groupby('StockCode').sum().sort_values('count',ascending=False).head(10)\n",
        "top10_mais_comprados"
      ],
      "metadata": {
        "id": "Jzo9N7AjWL6-",
        "colab": {
          "base_uri": "https://localhost:8080/",
          "height": 394
        },
        "outputId": "dffdafd6-88ea-4790-f7c5-ae41c91d666e"
      },
      "execution_count": 90,
      "outputs": [
        {
          "output_type": "execute_result",
          "data": {
            "text/plain": [
              "           count\n",
              "StockCode       \n",
              "85123A      1852\n",
              "22423       1741\n",
              "85099B      1571\n",
              "47566       1386\n",
              "84879       1312\n",
              "20725       1289\n",
              "22720       1175\n",
              "POST        1127\n",
              "23203       1107\n",
              "20727       1052"
            ],
            "text/html": [
              "\n",
              "  <div id=\"df-6f1d8104-7cd9-47bc-a093-189fa0578544\" class=\"colab-df-container\">\n",
              "    <div>\n",
              "<style scoped>\n",
              "    .dataframe tbody tr th:only-of-type {\n",
              "        vertical-align: middle;\n",
              "    }\n",
              "\n",
              "    .dataframe tbody tr th {\n",
              "        vertical-align: top;\n",
              "    }\n",
              "\n",
              "    .dataframe thead th {\n",
              "        text-align: right;\n",
              "    }\n",
              "</style>\n",
              "<table border=\"1\" class=\"dataframe\">\n",
              "  <thead>\n",
              "    <tr style=\"text-align: right;\">\n",
              "      <th></th>\n",
              "      <th>count</th>\n",
              "    </tr>\n",
              "    <tr>\n",
              "      <th>StockCode</th>\n",
              "      <th></th>\n",
              "    </tr>\n",
              "  </thead>\n",
              "  <tbody>\n",
              "    <tr>\n",
              "      <th>85123A</th>\n",
              "      <td>1852</td>\n",
              "    </tr>\n",
              "    <tr>\n",
              "      <th>22423</th>\n",
              "      <td>1741</td>\n",
              "    </tr>\n",
              "    <tr>\n",
              "      <th>85099B</th>\n",
              "      <td>1571</td>\n",
              "    </tr>\n",
              "    <tr>\n",
              "      <th>47566</th>\n",
              "      <td>1386</td>\n",
              "    </tr>\n",
              "    <tr>\n",
              "      <th>84879</th>\n",
              "      <td>1312</td>\n",
              "    </tr>\n",
              "    <tr>\n",
              "      <th>20725</th>\n",
              "      <td>1289</td>\n",
              "    </tr>\n",
              "    <tr>\n",
              "      <th>22720</th>\n",
              "      <td>1175</td>\n",
              "    </tr>\n",
              "    <tr>\n",
              "      <th>POST</th>\n",
              "      <td>1127</td>\n",
              "    </tr>\n",
              "    <tr>\n",
              "      <th>23203</th>\n",
              "      <td>1107</td>\n",
              "    </tr>\n",
              "    <tr>\n",
              "      <th>20727</th>\n",
              "      <td>1052</td>\n",
              "    </tr>\n",
              "  </tbody>\n",
              "</table>\n",
              "</div>\n",
              "    <div class=\"colab-df-buttons\">\n",
              "\n",
              "  <div class=\"colab-df-container\">\n",
              "    <button class=\"colab-df-convert\" onclick=\"convertToInteractive('df-6f1d8104-7cd9-47bc-a093-189fa0578544')\"\n",
              "            title=\"Convert this dataframe to an interactive table.\"\n",
              "            style=\"display:none;\">\n",
              "\n",
              "  <svg xmlns=\"http://www.w3.org/2000/svg\" height=\"24px\" viewBox=\"0 -960 960 960\">\n",
              "    <path d=\"M120-120v-720h720v720H120Zm60-500h600v-160H180v160Zm220 220h160v-160H400v160Zm0 220h160v-160H400v160ZM180-400h160v-160H180v160Zm440 0h160v-160H620v160ZM180-180h160v-160H180v160Zm440 0h160v-160H620v160Z\"/>\n",
              "  </svg>\n",
              "    </button>\n",
              "\n",
              "  <style>\n",
              "    .colab-df-container {\n",
              "      display:flex;\n",
              "      gap: 12px;\n",
              "    }\n",
              "\n",
              "    .colab-df-convert {\n",
              "      background-color: #E8F0FE;\n",
              "      border: none;\n",
              "      border-radius: 50%;\n",
              "      cursor: pointer;\n",
              "      display: none;\n",
              "      fill: #1967D2;\n",
              "      height: 32px;\n",
              "      padding: 0 0 0 0;\n",
              "      width: 32px;\n",
              "    }\n",
              "\n",
              "    .colab-df-convert:hover {\n",
              "      background-color: #E2EBFA;\n",
              "      box-shadow: 0px 1px 2px rgba(60, 64, 67, 0.3), 0px 1px 3px 1px rgba(60, 64, 67, 0.15);\n",
              "      fill: #174EA6;\n",
              "    }\n",
              "\n",
              "    .colab-df-buttons div {\n",
              "      margin-bottom: 4px;\n",
              "    }\n",
              "\n",
              "    [theme=dark] .colab-df-convert {\n",
              "      background-color: #3B4455;\n",
              "      fill: #D2E3FC;\n",
              "    }\n",
              "\n",
              "    [theme=dark] .colab-df-convert:hover {\n",
              "      background-color: #434B5C;\n",
              "      box-shadow: 0px 1px 3px 1px rgba(0, 0, 0, 0.15);\n",
              "      filter: drop-shadow(0px 1px 2px rgba(0, 0, 0, 0.3));\n",
              "      fill: #FFFFFF;\n",
              "    }\n",
              "  </style>\n",
              "\n",
              "    <script>\n",
              "      const buttonEl =\n",
              "        document.querySelector('#df-6f1d8104-7cd9-47bc-a093-189fa0578544 button.colab-df-convert');\n",
              "      buttonEl.style.display =\n",
              "        google.colab.kernel.accessAllowed ? 'block' : 'none';\n",
              "\n",
              "      async function convertToInteractive(key) {\n",
              "        const element = document.querySelector('#df-6f1d8104-7cd9-47bc-a093-189fa0578544');\n",
              "        const dataTable =\n",
              "          await google.colab.kernel.invokeFunction('convertToInteractive',\n",
              "                                                    [key], {});\n",
              "        if (!dataTable) return;\n",
              "\n",
              "        const docLinkHtml = 'Like what you see? Visit the ' +\n",
              "          '<a target=\"_blank\" href=https://colab.research.google.com/notebooks/data_table.ipynb>data table notebook</a>'\n",
              "          + ' to learn more about interactive tables.';\n",
              "        element.innerHTML = '';\n",
              "        dataTable['output_type'] = 'display_data';\n",
              "        await google.colab.output.renderOutput(dataTable, element);\n",
              "        const docLink = document.createElement('div');\n",
              "        docLink.innerHTML = docLinkHtml;\n",
              "        element.appendChild(docLink);\n",
              "      }\n",
              "    </script>\n",
              "  </div>\n",
              "\n",
              "\n",
              "<div id=\"df-f0be24f7-87a4-4500-ad12-8886ef01e6dc\">\n",
              "  <button class=\"colab-df-quickchart\" onclick=\"quickchart('df-f0be24f7-87a4-4500-ad12-8886ef01e6dc')\"\n",
              "            title=\"Suggest charts\"\n",
              "            style=\"display:none;\">\n",
              "\n",
              "<svg xmlns=\"http://www.w3.org/2000/svg\" height=\"24px\"viewBox=\"0 0 24 24\"\n",
              "     width=\"24px\">\n",
              "    <g>\n",
              "        <path d=\"M19 3H5c-1.1 0-2 .9-2 2v14c0 1.1.9 2 2 2h14c1.1 0 2-.9 2-2V5c0-1.1-.9-2-2-2zM9 17H7v-7h2v7zm4 0h-2V7h2v10zm4 0h-2v-4h2v4z\"/>\n",
              "    </g>\n",
              "</svg>\n",
              "  </button>\n",
              "\n",
              "<style>\n",
              "  .colab-df-quickchart {\n",
              "      --bg-color: #E8F0FE;\n",
              "      --fill-color: #1967D2;\n",
              "      --hover-bg-color: #E2EBFA;\n",
              "      --hover-fill-color: #174EA6;\n",
              "      --disabled-fill-color: #AAA;\n",
              "      --disabled-bg-color: #DDD;\n",
              "  }\n",
              "\n",
              "  [theme=dark] .colab-df-quickchart {\n",
              "      --bg-color: #3B4455;\n",
              "      --fill-color: #D2E3FC;\n",
              "      --hover-bg-color: #434B5C;\n",
              "      --hover-fill-color: #FFFFFF;\n",
              "      --disabled-bg-color: #3B4455;\n",
              "      --disabled-fill-color: #666;\n",
              "  }\n",
              "\n",
              "  .colab-df-quickchart {\n",
              "    background-color: var(--bg-color);\n",
              "    border: none;\n",
              "    border-radius: 50%;\n",
              "    cursor: pointer;\n",
              "    display: none;\n",
              "    fill: var(--fill-color);\n",
              "    height: 32px;\n",
              "    padding: 0;\n",
              "    width: 32px;\n",
              "  }\n",
              "\n",
              "  .colab-df-quickchart:hover {\n",
              "    background-color: var(--hover-bg-color);\n",
              "    box-shadow: 0 1px 2px rgba(60, 64, 67, 0.3), 0 1px 3px 1px rgba(60, 64, 67, 0.15);\n",
              "    fill: var(--button-hover-fill-color);\n",
              "  }\n",
              "\n",
              "  .colab-df-quickchart-complete:disabled,\n",
              "  .colab-df-quickchart-complete:disabled:hover {\n",
              "    background-color: var(--disabled-bg-color);\n",
              "    fill: var(--disabled-fill-color);\n",
              "    box-shadow: none;\n",
              "  }\n",
              "\n",
              "  .colab-df-spinner {\n",
              "    border: 2px solid var(--fill-color);\n",
              "    border-color: transparent;\n",
              "    border-bottom-color: var(--fill-color);\n",
              "    animation:\n",
              "      spin 1s steps(1) infinite;\n",
              "  }\n",
              "\n",
              "  @keyframes spin {\n",
              "    0% {\n",
              "      border-color: transparent;\n",
              "      border-bottom-color: var(--fill-color);\n",
              "      border-left-color: var(--fill-color);\n",
              "    }\n",
              "    20% {\n",
              "      border-color: transparent;\n",
              "      border-left-color: var(--fill-color);\n",
              "      border-top-color: var(--fill-color);\n",
              "    }\n",
              "    30% {\n",
              "      border-color: transparent;\n",
              "      border-left-color: var(--fill-color);\n",
              "      border-top-color: var(--fill-color);\n",
              "      border-right-color: var(--fill-color);\n",
              "    }\n",
              "    40% {\n",
              "      border-color: transparent;\n",
              "      border-right-color: var(--fill-color);\n",
              "      border-top-color: var(--fill-color);\n",
              "    }\n",
              "    60% {\n",
              "      border-color: transparent;\n",
              "      border-right-color: var(--fill-color);\n",
              "    }\n",
              "    80% {\n",
              "      border-color: transparent;\n",
              "      border-right-color: var(--fill-color);\n",
              "      border-bottom-color: var(--fill-color);\n",
              "    }\n",
              "    90% {\n",
              "      border-color: transparent;\n",
              "      border-bottom-color: var(--fill-color);\n",
              "    }\n",
              "  }\n",
              "</style>\n",
              "\n",
              "  <script>\n",
              "    async function quickchart(key) {\n",
              "      const quickchartButtonEl =\n",
              "        document.querySelector('#' + key + ' button');\n",
              "      quickchartButtonEl.disabled = true;  // To prevent multiple clicks.\n",
              "      quickchartButtonEl.classList.add('colab-df-spinner');\n",
              "      try {\n",
              "        const charts = await google.colab.kernel.invokeFunction(\n",
              "            'suggestCharts', [key], {});\n",
              "      } catch (error) {\n",
              "        console.error('Error during call to suggestCharts:', error);\n",
              "      }\n",
              "      quickchartButtonEl.classList.remove('colab-df-spinner');\n",
              "      quickchartButtonEl.classList.add('colab-df-quickchart-complete');\n",
              "    }\n",
              "    (() => {\n",
              "      let quickchartButtonEl =\n",
              "        document.querySelector('#df-f0be24f7-87a4-4500-ad12-8886ef01e6dc button');\n",
              "      quickchartButtonEl.style.display =\n",
              "        google.colab.kernel.accessAllowed ? 'block' : 'none';\n",
              "    })();\n",
              "  </script>\n",
              "</div>\n",
              "\n",
              "  <div id=\"id_5711d0d2-ba62-4c07-8d0b-d6e234f28e86\">\n",
              "    <style>\n",
              "      .colab-df-generate {\n",
              "        background-color: #E8F0FE;\n",
              "        border: none;\n",
              "        border-radius: 50%;\n",
              "        cursor: pointer;\n",
              "        display: none;\n",
              "        fill: #1967D2;\n",
              "        height: 32px;\n",
              "        padding: 0 0 0 0;\n",
              "        width: 32px;\n",
              "      }\n",
              "\n",
              "      .colab-df-generate:hover {\n",
              "        background-color: #E2EBFA;\n",
              "        box-shadow: 0px 1px 2px rgba(60, 64, 67, 0.3), 0px 1px 3px 1px rgba(60, 64, 67, 0.15);\n",
              "        fill: #174EA6;\n",
              "      }\n",
              "\n",
              "      [theme=dark] .colab-df-generate {\n",
              "        background-color: #3B4455;\n",
              "        fill: #D2E3FC;\n",
              "      }\n",
              "\n",
              "      [theme=dark] .colab-df-generate:hover {\n",
              "        background-color: #434B5C;\n",
              "        box-shadow: 0px 1px 3px 1px rgba(0, 0, 0, 0.15);\n",
              "        filter: drop-shadow(0px 1px 2px rgba(0, 0, 0, 0.3));\n",
              "        fill: #FFFFFF;\n",
              "      }\n",
              "    </style>\n",
              "    <button class=\"colab-df-generate\" onclick=\"generateWithVariable('top10_mais_comprados')\"\n",
              "            title=\"Generate code using this dataframe.\"\n",
              "            style=\"display:none;\">\n",
              "\n",
              "  <svg xmlns=\"http://www.w3.org/2000/svg\" height=\"24px\"viewBox=\"0 0 24 24\"\n",
              "       width=\"24px\">\n",
              "    <path d=\"M7,19H8.4L18.45,9,17,7.55,7,17.6ZM5,21V16.75L18.45,3.32a2,2,0,0,1,2.83,0l1.4,1.43a1.91,1.91,0,0,1,.58,1.4,1.91,1.91,0,0,1-.58,1.4L9.25,21ZM18.45,9,17,7.55Zm-12,3A5.31,5.31,0,0,0,4.9,8.1,5.31,5.31,0,0,0,1,6.5,5.31,5.31,0,0,0,4.9,4.9,5.31,5.31,0,0,0,6.5,1,5.31,5.31,0,0,0,8.1,4.9,5.31,5.31,0,0,0,12,6.5,5.46,5.46,0,0,0,6.5,12Z\"/>\n",
              "  </svg>\n",
              "    </button>\n",
              "    <script>\n",
              "      (() => {\n",
              "      const buttonEl =\n",
              "        document.querySelector('#id_5711d0d2-ba62-4c07-8d0b-d6e234f28e86 button.colab-df-generate');\n",
              "      buttonEl.style.display =\n",
              "        google.colab.kernel.accessAllowed ? 'block' : 'none';\n",
              "\n",
              "      buttonEl.onclick = () => {\n",
              "        google.colab.notebook.generateWithVariable('top10_mais_comprados');\n",
              "      }\n",
              "      })();\n",
              "    </script>\n",
              "  </div>\n",
              "\n",
              "    </div>\n",
              "  </div>\n"
            ],
            "application/vnd.google.colaboratory.intrinsic+json": {
              "type": "dataframe",
              "variable_name": "top10_mais_comprados",
              "summary": "{\n  \"name\": \"top10_mais_comprados\",\n  \"rows\": 10,\n  \"fields\": [\n    {\n      \"column\": \"StockCode\",\n      \"properties\": {\n        \"dtype\": \"string\",\n        \"num_unique_values\": 10,\n        \"samples\": [\n          \"23203\",\n          \"22423\",\n          \"20725\"\n        ],\n        \"semantic_type\": \"\",\n        \"description\": \"\"\n      }\n    },\n    {\n      \"column\": \"count\",\n      \"properties\": {\n        \"dtype\": \"number\",\n        \"std\": 276,\n        \"min\": 1052,\n        \"max\": 1852,\n        \"num_unique_values\": 10,\n        \"samples\": [\n          1107,\n          1741,\n          1289\n        ],\n        \"semantic_type\": \"\",\n        \"description\": \"\"\n      }\n    }\n  ]\n}"
            }
          },
          "metadata": {},
          "execution_count": 90
        }
      ]
    },
    {
      "cell_type": "markdown",
      "source": [
        "Para encerrar, podemos avaliar a **distribuição de cada um desses produtos ao longo dos meses** em um gráfico de colunas, o que trará mais clareza à nossa análise.\n",
        "\n",
        "Como seria necessário gerar 10 gráficos de colunas para avaliar todos esses produtos, deixo abaixo o código que contempla apenas o primeiro produto da lista. Caso deseje visualizar outro produto, basta substituir o \"StockCode 85123A\" pelo código do produto que você quer analisar."
      ],
      "metadata": {
        "id": "x9fYEkvH0bz-"
      }
    },
    {
      "cell_type": "code",
      "source": [
        "frequencia_de_compra_mes[frequencia_de_compra_mes['StockCode']=='85123A'].sort_values('Mês',ascending=True).plot(kind='bar',x='Mês',y='count',color='blue', figsize=(10,5))"
      ],
      "metadata": {
        "id": "J-9rZddyrUn9",
        "colab": {
          "base_uri": "https://localhost:8080/",
          "height": 488
        },
        "outputId": "f0317864-6919-4052-feaf-6fc93d3b17c7"
      },
      "execution_count": 91,
      "outputs": [
        {
          "output_type": "execute_result",
          "data": {
            "text/plain": [
              "<Axes: xlabel='Mês'>"
            ]
          },
          "metadata": {},
          "execution_count": 91
        },
        {
          "output_type": "display_data",
          "data": {
            "text/plain": [
              "<Figure size 1000x500 with 1 Axes>"
            ],
            "image/png": "[encoded data removed]"
          },
          "metadata": {}
        }
      ]
    },
    {
      "cell_type": "markdown",
      "source": [
        "# **4 Insights**\n",
        "\n",
        "Para encerrar, passaremos agora à parte de conclusões, onde consolidamos as observações obtidas ao longo das análises. Este é um momento fundamental, pois é aqui que traduzimos os dados em respostas concretas para as perguntas iniciais, oferecendo informações acionáveis para a empresa.\n",
        "\n",
        "Dito isso, segue abaixo uma lista de recomendações para esta empresa, extraídas a partir dos dados analisados:\n",
        "\n",
        "- **Estudar a sazonalidade e eventos de novembro:** Verificar se a empresa promove alguma campanha especial ou participa de eventos sazonais, como Black Friday. Isso pode explicar o aumento de transações em novembro.\n",
        "- **Analisar dezembro em comparação com anos anteriores:** A queda em dezembro pode ser um comportamento sazonal ou devido a fatores específicos daquele ano. Comparar com o mesmo período em anos anteriores ajudaria a confirmar ou esclarecer o padrão.\n",
        "- **Revisar as estratégias de retenção de clientes:** Caso a queda em dezembro seja algo padrão, sugiro que a empresa analise a possibilidade de campanhas de fidelização ou promoções no início de dezembro para mitigar a queda nas transações ao final do ano.\n",
        "- **Considerar fatores externos e operacionais:** Questões como dificuldades logísticas, estoques, ou até mesmo mudanças de comportamento de compra após eventos como Black Friday podem influenciar a queda em dezembro.\n",
        "- **Verificar os cancelamentos frequentes:** Examinar os produtos com maior frequência de cancelamento para verificar se há padrões. Alguns itens podem ser devolvidos mais frequentemente devido a questões de qualidade ou descrição incorreta.\n",
        "- **Análise de Tendência Anual:** Comparar a taxa de cancelamento anual para ver se esse comportamento é consistente ao longo dos anos. Isso pode indicar se a taxa de cancelamento de 1,6% a 3,2% é uma média normal ou se algo impactou especificamente o ano em questão.\n",
        "\n"
      ],
      "metadata": {
        "id": "AAHDiCzB14a8"
      }
    }
  ]
}
