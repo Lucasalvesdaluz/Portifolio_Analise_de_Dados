{
 "cells": [
  {
   "cell_type": "markdown",
   "id": "79e74aaa-5176-4619-b205-fb4a7e2e433e",
   "metadata": {},
   "source": [
    "# Projeto: Automatizando Cadastros de Produtos\n",
    "\n",
    "Este código realiza a automação do processo de cadastro de produtos em um sistema de gerenciamento (Fakturama). Ele utiliza bibliotecas de automação e manipulação de dados para acessar uma planilha com informações de produtos, preencher os campos necessários no sistema e associar imagens a cada produto. \n",
    "\n",
    "## 1 Bibliotecas Utilizadas\n",
    "- Pyautogui: Responsável por interagir com o mouse e o teclado para realizar cliques, digitação e atalhos.\n",
    "- Time: Usada para adicionar pausas durante a execução, garantindo que o sistema tenha tempo para responder.\n",
    "- Pandas: Carrega e manipula as planilhas de produtos e imagens.\n",
    "- Pyperclip: Permite copiar texto para a área de transferência e colá-lo no sistema.\n",
    "\n",
    "Veja, logo abaixo, o código completo e em seguida uma explicação detalhada:"
   ]
  },
  {
   "cell_type": "markdown",
   "id": "6ff10bc7-e47d-4f3b-8164-e2dbf5cf5cb8",
   "metadata": {},
   "source": [
    "## 2 Código Completo"
   ]
  },
  {
   "cell_type": "code",
   "execution_count": 77,
   "id": "5a44464a-f648-4974-953e-87c6ddd8c6df",
   "metadata": {},
   "outputs": [],
   "source": [
    "import pyautogui as py\n",
    "import time\n",
    "import pandas as pd\n",
    "import pyperclip as pyper\n",
    "\n",
    "py.hotkey('ctrl','alt','right')\n",
    "\n",
    "time.sleep(15)\n",
    "\n",
    "py.PAUSE=0.6\n",
    "\n",
    "#Tabela com as Informações dos Produtos\n",
    "produtos=pd.read_excel('produtos.xlsx')\n",
    "#Lista com as Imagens dos Produtos\n",
    "imagens=pd.read_excel('imagens.xlsx')\n",
    "imagens=imagens.reset_index()\n",
    "\n",
    "#Coordenadas dos Campos das Informações dos Produtos\n",
    "coordenadas=[(603, 206),(737, 236),(651, 269),(661, 295),(590, 325),(700, 371),(681, 452),(605, 483),(629, 543)]\n",
    "\n",
    "for linha in range(9):\n",
    "    #Clica no botão \"Novo Produto\" para iniciar o processo de cadastro.\n",
    "    py.click(x=86, y=654)\n",
    "    \n",
    "    for i in range(9):\n",
    "        \n",
    "        #Itera sobre os campos de cadastro e insere os dados correspondentes da linha atual da planilha de produtos.\n",
    "        coluna=produtos.columns[i]\n",
    "        py.click(coordenadas[i])\n",
    "        pyper.copy(produtos[coluna][linha])\n",
    "        py.hotkey('ctrl','v')\n",
    "        \n",
    "        #Selecionando a Imagem do Produto\n",
    "        if i==8:\n",
    "            py.click(x=1540, y=371)\n",
    "            time.sleep(0.5)\n",
    "            py.click(x=402, y=568)\n",
    "            py.write(rf\"C:\\Users\\lucas\\Downloads\\Jupter Pasta\\{imagens['Imagens'][linha]}\")\n",
    "            py.press('enter')\n",
    "            #Salvando Produto\n",
    "            py.click(x=152, y=89)"
   ]
  },
  {
   "cell_type": "markdown",
   "id": "9e5c7a05-33ab-482e-830b-7cbd7696db47",
   "metadata": {},
   "source": [
    "## 3 Detalhamento do código"
   ]
  },
  {
   "cell_type": "markdown",
   "id": "6ce2fbb2-a3bf-4e21-bc1c-2751fff6fc08",
   "metadata": {},
   "source": [
    "### 3.1 Abrindo o Fakturama\n",
    "O comando **CTRL+ALT+RIGHT** foi utilizado para acessar o fakturama."
   ]
  },
  {
   "cell_type": "code",
   "execution_count": 79,
   "id": "f63d85ad-a26f-4870-b81c-0380c250cbbf",
   "metadata": {},
   "outputs": [],
   "source": [
    "py.hotkey('ctrl','alt','right')"
   ]
  },
  {
   "cell_type": "markdown",
   "id": "8686551e-44ba-4ccb-a1a0-74785a7b4166",
   "metadata": {},
   "source": [
    "### 3.2 Configuração de Pausa:\n",
    "Define um tempo de pausa entre cada comando do pyautogui, evitando que os comandos sejam executados muito rapidamente."
   ]
  },
  {
   "cell_type": "code",
   "execution_count": null,
   "id": "7983ae60-37b7-41d2-a0d2-22ae348ab15e",
   "metadata": {},
   "outputs": [],
   "source": [
    "py.PAUSE = 0.6"
   ]
  },
  {
   "cell_type": "markdown",
   "id": "93af8458-4ebc-40d6-afa4-30d036e3d390",
   "metadata": {},
   "source": [
    "### 3.3 Carregamento de Dados:\n",
    "- produtos.xlsx: Contém informações dos produtos, como nome, descrição, preço, etc.\n",
    "- imagens.xlsx: Contém o nome das imagens associadas aos produtos."
   ]
  },
  {
   "cell_type": "code",
   "execution_count": null,
   "id": "2c1ac74d-4989-4af9-864c-7d4a8b872dcc",
   "metadata": {},
   "outputs": [],
   "source": [
    "produtos = pd.read_excel('produtos.xlsx')\n",
    "imagens = pd.read_excel('imagens.xlsx')\n",
    "imagens = imagens.reset_index()"
   ]
  },
  {
   "cell_type": "markdown",
   "id": "327bd714-e413-4ce5-b9e3-4c2bb28552e4",
   "metadata": {},
   "source": [
    "### 3.4 Definição de Coordenadas:\n",
    "Lista com as coordenadas da tela para cada campo que será preenchido.Cada tupla representa a posição de um campo no sistema Fakturama."
   ]
  },
  {
   "cell_type": "code",
   "execution_count": null,
   "id": "c79c051d-7ce4-419d-a1e9-0bab5ed97322",
   "metadata": {},
   "outputs": [],
   "source": [
    "coordenadas = [(603, 206), (737, 236), (651, 269), (661, 295), (590, 325), (700, 371), (681, 452), (605, 483), (629, 543)]"
   ]
  },
  {
   "cell_type": "markdown",
   "id": "f7d6e9c2-93e1-44e1-a994-8ebafa17fb98",
   "metadata": {},
   "source": [
    "### 3.5 Cadastro de Produtos:\n",
    "O código percorre cada linha da planilha de produtos e realiza os seguintes passos:\n",
    "- Clica no botão \"Novo Produto\" para iniciar o processo de cadastro.\n",
    "- Itera sobre os campos de cadastro e insere os dados correspondentes da linha atual da planilha de produtos."
   ]
  },
  {
   "cell_type": "code",
   "execution_count": null,
   "id": "cfc50916-1406-4767-b719-71684698ae52",
   "metadata": {},
   "outputs": [],
   "source": [
    "for linha in range(9):\n",
    "    #Clicando no botão \"Novo Produto\"\n",
    "    py.click(x=86, y=654)\n",
    "    \n",
    "    for i in range(9):\n",
    "        \n",
    "        #Iterando sobre os campos de cadastro\n",
    "        coluna=produtos.columns[i]\n",
    "        py.click(coordenadas[i])\n",
    "        pyper.copy(produtos[coluna][linha])\n",
    "        py.hotkey('ctrl','v')"
   ]
  },
  {
   "cell_type": "markdown",
   "id": "700bf5c7-01c1-489a-b084-63c29db56328",
   "metadata": {},
   "source": [
    "### 3.6 Associa a Imagem\n",
    "Após preencher todos os campos, o código:\n",
    "- Clica no campo para adicionar a imagem.\n",
    "- Navega até o diretório especificado.\n",
    "- Insere o caminho da imagem correspondente ao produto atual."
   ]
  },
  {
   "cell_type": "code",
   "execution_count": null,
   "id": "8c0b9e7b-ffc2-4a74-9eef-be9794bf20e4",
   "metadata": {},
   "outputs": [],
   "source": [
    "if i == 8:\n",
    "    py.click(x=1540, y=371)\n",
    "    time.sleep(0.5)\n",
    "    py.click(x=402, y=568)\n",
    "    py.write(rf\"C:\\Users\\lucas\\Downloads\\Jupter Pasta\\{imagens['Imagens'][linha]}\")\n",
    "    py.press('enter')"
   ]
  },
  {
   "cell_type": "markdown",
   "id": "26a51b96-a092-4976-a471-9828be22941e",
   "metadata": {},
   "source": [
    "# 3.7 Salvando o Produto:\n",
    "Clica no botão \"salvar\" para finalizar o cadastro"
   ]
  },
  {
   "cell_type": "code",
   "execution_count": null,
   "id": "4897cb9f-79cc-4614-9618-c5360e651978",
   "metadata": {},
   "outputs": [],
   "source": [
    "py.click(x=152, y=89)"
   ]
  }
 ],
 "metadata": {
  "kernelspec": {
   "display_name": "Python 3 (ipykernel)",
   "language": "python",
   "name": "python3"
  },
  "language_info": {
   "codemirror_mode": {
    "name": "ipython",
    "version": 3
   },
   "file_extension": ".py",
   "mimetype": "text/x-python",
   "name": "python",
   "nbconvert_exporter": "python",
   "pygments_lexer": "ipython3",
   "version": "3.12.7"
  }
 },
 "nbformat": 4,
 "nbformat_minor": 5
}
